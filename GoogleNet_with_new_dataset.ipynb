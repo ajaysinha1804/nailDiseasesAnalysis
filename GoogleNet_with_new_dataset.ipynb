{
  "cells": [
    {
      "cell_type": "markdown",
      "metadata": {
        "id": "view-in-github",
        "colab_type": "text"
      },
      "source": [
        "<a href=\"https://colab.research.google.com/github/ajaysinha1804/nailDiseasesAnalysis/blob/main/GoogleNet_with_new_dataset.ipynb\" target=\"_parent\"><img src=\"https://colab.research.google.com/assets/colab-badge.svg\" alt=\"Open In Colab\"/></a>"
      ]
    },
    {
      "cell_type": "markdown",
      "metadata": {
        "id": "W2cYkLHWItWw"
      },
      "source": [
        "# Importing Dependecies\n"
      ]
    },
    {
      "cell_type": "code",
      "execution_count": null,
      "metadata": {
        "id": "9rrjdaImGf4M"
      },
      "outputs": [],
      "source": [
        "import keras\n",
        "from keras.models import Model, Sequential\n",
        "from keras.layers import Dense, Dropout, Flatten, Input, AveragePooling2D,Conv2D,MaxPooling2D,BatchNormalization,Concatenate\n",
        "from keras.optimizers import Adam\n",
        "from keras.callbacks import ReduceLROnPlateau, CSVLogger,EarlyStopping,ModelCheckpoint\n",
        "import numpy as np\n",
        "from keras.preprocessing import image\n",
        "from keras.applications.imagenet_utils import preprocess_input\n",
        "import os\n",
        "import re\n",
        "from sklearn.utils import shuffle\n",
        "from keras.utils import to_categorical\n",
        "from sklearn.model_selection import train_test_split\n",
        "from keras.preprocessing.image import ImageDataGenerator\n",
        "import keras.utils as image"
      ]
    },
    {
      "cell_type": "code",
      "execution_count": null,
      "metadata": {
        "id": "ZOsEU8QWIhQO"
      },
      "outputs": [],
      "source": [
        "from keras import backend as K\n"
      ]
    },
    {
      "cell_type": "code",
      "execution_count": null,
      "metadata": {
        "colab": {
          "base_uri": "https://localhost:8080/"
        },
        "id": "yYxfkOzEIsN0",
        "outputId": "da0fa524-3c7a-44af-88a6-2b738b0d3b8a"
      },
      "outputs": [
        {
          "output_type": "stream",
          "name": "stdout",
          "text": [
            "Mounted at /content/drive\n"
          ]
        }
      ],
      "source": [
        "from google.colab import drive\n",
        "drive.mount('/content/drive')"
      ]
    },
    {
      "cell_type": "markdown",
      "metadata": {
        "id": "PTlPzPa6P0-t"
      },
      "source": [
        "# Define Paths"
      ]
    },
    {
      "cell_type": "code",
      "execution_count": null,
      "metadata": {
        "colab": {
          "base_uri": "https://localhost:8080/"
        },
        "id": "3YPGLHfkGmtc",
        "outputId": "a40a23e5-4aaf-491e-fa43-1f0f9beb9978"
      },
      "outputs": [
        {
          "output_type": "stream",
          "name": "stdout",
          "text": [
            "PWD /content/drive/MyDrive/datasetnew/\n"
          ]
        }
      ],
      "source": [
        "PATH = \"/content/drive/MyDrive/datasetnew/\"\n",
        "METRICS_PATH=\"/content/drive/MyDrive/metro/\"\n",
        "MODEL_NAME=\"GoogleNet\"\n",
        "print(\"PWD\", PATH)"
      ]
    },
    {
      "cell_type": "markdown",
      "metadata": {
        "id": "vj6JkdnQKH-6"
      },
      "source": [
        "# Define Metrics"
      ]
    },
    {
      "cell_type": "code",
      "execution_count": null,
      "metadata": {
        "id": "ZskICu_8Gopr"
      },
      "outputs": [],
      "source": [
        "def sensitivity(y_true, y_pred):\n",
        "    true_positives = K.sum(K.round(K.clip(y_true * y_pred, 0, 1)))\n",
        "    possible_positives = K.sum(K.round(K.clip(y_true, 0, 1)))\n",
        "    return true_positives / (possible_positives + K.epsilon())"
      ]
    },
    {
      "cell_type": "code",
      "execution_count": null,
      "metadata": {
        "id": "3NUnI6O4Goni"
      },
      "outputs": [],
      "source": [
        "def specificity(y_true, y_pred):\n",
        "    true_negatives = K.sum(K.round(K.clip((1 - y_true) * (1 - y_pred), 0, 1)))\n",
        "    false_positives = K.sum(K.round(K.clip((1 - y_true) * y_pred, 0, 1)))\n",
        "    return true_negatives / (true_negatives+false_positives + K.epsilon())"
      ]
    },
    {
      "cell_type": "code",
      "execution_count": null,
      "metadata": {
        "id": "lwzrX00JGolR"
      },
      "outputs": [],
      "source": [
        "def f1(y_true, y_pred):\n",
        "    def recall(y_true, y_pred):\n",
        "        true_positives = K.sum(K.round(K.clip(y_true * y_pred, 0, 1)))\n",
        "        possible_positives = K.sum(K.round(K.clip(y_true, 0, 1)))\n",
        "        recall = true_positives / (possible_positives + K.epsilon())\n",
        "        return recall\n",
        "    def precision(y_true, y_pred):\n",
        "        true_positives = K.sum(K.round(K.clip(y_true * y_pred, 0, 1)))\n",
        "        predicted_positives = K.sum(K.round(K.clip(y_pred, 0, 1)))\n",
        "        precision = true_positives / (predicted_positives + K.epsilon())\n",
        "        return precision\n",
        "    precision = precision(y_true, y_pred)\n",
        "    recall = recall(y_true, y_pred)\n",
        "    return 2*((precision*recall)/(precision+recall+K.epsilon()))"
      ]
    },
    {
      "cell_type": "markdown",
      "metadata": {
        "id": "SX_hZ-ODNAHz"
      },
      "source": [
        "# Read Images from Drive"
      ]
    },
    {
      "cell_type": "code",
      "execution_count": null,
      "metadata": {
        "id": "hgGgQB1BG4Od"
      },
      "outputs": [],
      "source": [
        "def sorted_alphanumeric(data):\n",
        "    convert = lambda text: int(text) if text.isdigit() else text.lower()\n",
        "    alphanum_key = lambda key: [convert(c) for c in re.split('([0-9]+)', key)]\n",
        "    return sorted(data, key=alphanum_key)"
      ]
    },
    {
      "cell_type": "code",
      "execution_count": null,
      "metadata": {
        "colab": {
          "base_uri": "https://localhost:8080/"
        },
        "id": "lDGRsXoiN9Wf",
        "outputId": "6d9449d5-e3e3-4d1f-e872-cc006f2ad6d1"
      },
      "outputs": [
        {
          "output_type": "stream",
          "name": "stdout",
          "text": [
            "['Acral Lentiginous Melanoma', 'Bluish Nail', 'Clubbing', 'Healthy Nail', 'Koilonychia', 'Nail Pitting', 'Onychogryphosis', 'onycholysis']\n"
          ]
        }
      ],
      "source": [
        "data_path = PATH\n",
        "data_dir_list = sorted_alphanumeric(os.listdir(data_path))\n",
        "print(data_dir_list)"
      ]
    },
    {
      "cell_type": "code",
      "execution_count": null,
      "metadata": {
        "colab": {
          "base_uri": "https://localhost:8080/"
        },
        "id": "cQMNxx5yG4HY",
        "outputId": "a37c98eb-fcd3-415e-c060-efa2019e7c19"
      },
      "outputs": [
        {
          "output_type": "stream",
          "name": "stdout",
          "text": [
            "Loaded the images of dataset-Acral Lentiginous Melanoma\n",
            "\n",
            "Loaded the images of dataset-Bluish Nail\n",
            "\n",
            "Loaded the images of dataset-Clubbing\n",
            "\n",
            "Loaded the images of dataset-Healthy Nail\n",
            "\n",
            "Loaded the images of dataset-Koilonychia\n",
            "\n",
            "Loaded the images of dataset-Nail Pitting\n",
            "\n",
            "Loaded the images of dataset-Onychogryphosis\n",
            "\n",
            "Loaded the images of dataset-onycholysis\n",
            "\n"
          ]
        }
      ],
      "source": [
        "img_data_list = []\n",
        "\n",
        "for dataset in data_dir_list:\n",
        "    img_list = sorted_alphanumeric(os.listdir(data_path + '/' + dataset))\n",
        "    print('Loaded the images of dataset-' + '{}\\n'.format(dataset))\n",
        "    for img in img_list:\n",
        "        # print(img)\n",
        "        img_path = data_path + '/' + dataset + '/' + img\n",
        "        img = image.load_img(img_path, target_size=(32,32))\n",
        "        x = image.img_to_array(img)\n",
        "        x = np.expand_dims(x, axis=0)\n",
        "        x = preprocess_input(x)\n",
        "        x = x/255\n",
        "        #print('Input image shape:', x.shape)\n",
        "        img_data_list.append(x)\n"
      ]
    },
    {
      "cell_type": "code",
      "execution_count": null,
      "metadata": {
        "colab": {
          "base_uri": "https://localhost:8080/"
        },
        "id": "5DnkHKm5G4FS",
        "outputId": "0d1cae4c-1b3c-42fd-bdff-2ae27e16a817"
      },
      "outputs": [
        {
          "output_type": "stream",
          "name": "stdout",
          "text": [
            "(8033, 1, 32, 32, 3)\n",
            "(1, 8033, 32, 32, 3)\n",
            "(8033, 32, 32, 3)\n"
          ]
        }
      ],
      "source": [
        "\n",
        "img_data = np.array(img_data_list)\n",
        "# img_data = img_data.astype('float32')\n",
        "print(img_data.shape)\n",
        "img_data = np.rollaxis(img_data, 1, 0)\n",
        "print(img_data.shape)\n",
        "img_data = img_data[0]\n",
        "print(img_data.shape)\n"
      ]
    },
    {
      "cell_type": "markdown",
      "metadata": {
        "id": "ny8pdS-NNEhL"
      },
      "source": [
        "# Train & Test Data"
      ]
    },
    {
      "cell_type": "code",
      "execution_count": null,
      "metadata": {
        "colab": {
          "base_uri": "https://localhost:8080/"
        },
        "id": "VSwd_-CNK1Ux",
        "outputId": "4be6e15f-7bbc-45a7-cd6b-0f18d5f876d9"
      },
      "outputs": [
        {
          "output_type": "execute_result",
          "data": {
            "text/plain": [
              "13779.0"
            ]
          },
          "metadata": {},
          "execution_count": 12
        }
      ],
      "source": [
        "27558/2"
      ]
    },
    {
      "cell_type": "code",
      "execution_count": null,
      "metadata": {
        "colab": {
          "base_uri": "https://localhost:8080/"
        },
        "id": "xEymJW76JQTv",
        "outputId": "87121c12-4654-4eb6-a47e-c78fe9c66370"
      },
      "outputs": [
        {
          "output_type": "stream",
          "name": "stdout",
          "text": [
            "sample 8033\n"
          ]
        }
      ],
      "source": [
        "num_classes = 8\n",
        "num_of_samples = img_data.shape[0]\n",
        "print(\"sample\", num_of_samples)\n",
        "labels = np.ones((num_of_samples,), dtype='int64')\n",
        "labels[0:859] = 0\n",
        "labels[859:2191] = 1\n",
        "labels[2191:3380] = 2\n",
        "labels[3380:4222] = 3\n",
        "labels[4222:5121] = 4\n",
        "labels[5121:5865] = 5\n",
        "labels[5865:7269] = 6\n",
        "labels[7269:8033] = 7\n",
        "\n",
        "names = ['Acral Lentiginous Melanoma', 'Bluish Nail', 'Clubbing', 'Healthy Nail', 'Koilonychia', 'Nail Pitting', 'Onychogryphosis', 'onycholysis']"
      ]
    },
    {
      "cell_type": "code",
      "execution_count": null,
      "metadata": {
        "id": "T2i6ejV-HEl4"
      },
      "outputs": [],
      "source": [
        "Y =to_categorical(labels, num_classes)\n",
        "x, y = shuffle(img_data, Y, random_state=2)\n",
        "x_train, x_test, y_train, y_test = train_test_split(x, y, test_size=0.2, random_state=2)\n"
      ]
    },
    {
      "cell_type": "markdown",
      "metadata": {
        "id": "yetl9cqpNLCp"
      },
      "source": [
        "# Model Architecture"
      ]
    },
    {
      "cell_type": "code",
      "execution_count": null,
      "metadata": {
        "colab": {
          "base_uri": "https://localhost:8080/"
        },
        "id": "g7BpPGd-HXzC",
        "outputId": "10e838b4-59bb-4946-b062-d70cc6150018"
      },
      "outputs": [
        {
          "output_type": "stream",
          "name": "stdout",
          "text": [
            "Model: \"model\"\n",
            "__________________________________________________________________________________________________\n",
            " Layer (type)                Output Shape                 Param #   Connected to                  \n",
            "==================================================================================================\n",
            " input_1 (InputLayer)        [(None, 32, 32, 3)]          0         []                            \n",
            "                                                                                                  \n",
            " conv2d (Conv2D)             (None, 32, 32, 64)           1792      ['input_1[0][0]']             \n",
            "                                                                                                  \n",
            " max_pooling2d (MaxPooling2  (None, 16, 16, 64)           0         ['conv2d[0][0]']              \n",
            " D)                                                                                               \n",
            "                                                                                                  \n",
            " batch_normalization (Batch  (None, 16, 16, 64)           256       ['max_pooling2d[0][0]']       \n",
            " Normalization)                                                                                   \n",
            "                                                                                                  \n",
            " conv2d_1 (Conv2D)           (None, 16, 16, 16)           1040      ['batch_normalization[0][0]'] \n",
            "                                                                                                  \n",
            " conv2d_3 (Conv2D)           (None, 16, 16, 16)           1040      ['batch_normalization[0][0]'] \n",
            "                                                                                                  \n",
            " max_pooling2d_1 (MaxPoolin  (None, 16, 16, 64)           0         ['batch_normalization[0][0]'] \n",
            " g2D)                                                                                             \n",
            "                                                                                                  \n",
            " conv2d_2 (Conv2D)           (None, 16, 16, 16)           2320      ['conv2d_1[0][0]']            \n",
            "                                                                                                  \n",
            " conv2d_4 (Conv2D)           (None, 16, 16, 16)           6416      ['conv2d_3[0][0]']            \n",
            "                                                                                                  \n",
            " conv2d_5 (Conv2D)           (None, 16, 16, 16)           1040      ['max_pooling2d_1[0][0]']     \n",
            "                                                                                                  \n",
            " concatenate (Concatenate)   (None, 48, 16, 16)           0         ['conv2d_2[0][0]',            \n",
            "                                                                     'conv2d_4[0][0]',            \n",
            "                                                                     'conv2d_5[0][0]']            \n",
            "                                                                                                  \n",
            " conv2d_6 (Conv2D)           (None, 48, 16, 128)          18560     ['concatenate[0][0]']         \n",
            "                                                                                                  \n",
            " max_pooling2d_2 (MaxPoolin  (None, 24, 8, 128)           0         ['conv2d_6[0][0]']            \n",
            " g2D)                                                                                             \n",
            "                                                                                                  \n",
            " batch_normalization_1 (Bat  (None, 24, 8, 128)           512       ['max_pooling2d_2[0][0]']     \n",
            " chNormalization)                                                                                 \n",
            "                                                                                                  \n",
            " conv2d_7 (Conv2D)           (None, 24, 8, 16)            2064      ['batch_normalization_1[0][0]'\n",
            "                                                                    ]                             \n",
            "                                                                                                  \n",
            " conv2d_9 (Conv2D)           (None, 24, 8, 16)            2064      ['batch_normalization_1[0][0]'\n",
            "                                                                    ]                             \n",
            "                                                                                                  \n",
            " max_pooling2d_3 (MaxPoolin  (None, 24, 8, 128)           0         ['batch_normalization_1[0][0]'\n",
            " g2D)                                                               ]                             \n",
            "                                                                                                  \n",
            " conv2d_8 (Conv2D)           (None, 24, 8, 16)            2320      ['conv2d_7[0][0]']            \n",
            "                                                                                                  \n",
            " conv2d_10 (Conv2D)          (None, 24, 8, 16)            6416      ['conv2d_9[0][0]']            \n",
            "                                                                                                  \n",
            " conv2d_11 (Conv2D)          (None, 24, 8, 16)            2064      ['max_pooling2d_3[0][0]']     \n",
            "                                                                                                  \n",
            " concatenate_1 (Concatenate  (None, 72, 8, 16)            0         ['conv2d_8[0][0]',            \n",
            " )                                                                   'conv2d_10[0][0]',           \n",
            "                                                                     'conv2d_11[0][0]']           \n",
            "                                                                                                  \n",
            " conv2d_12 (Conv2D)          (None, 72, 8, 256)           37120     ['concatenate_1[0][0]']       \n",
            "                                                                                                  \n",
            " max_pooling2d_4 (MaxPoolin  (None, 36, 4, 256)           0         ['conv2d_12[0][0]']           \n",
            " g2D)                                                                                             \n",
            "                                                                                                  \n",
            " batch_normalization_2 (Bat  (None, 36, 4, 256)           1024      ['max_pooling2d_4[0][0]']     \n",
            " chNormalization)                                                                                 \n",
            "                                                                                                  \n",
            " conv2d_13 (Conv2D)          (None, 36, 4, 16)            4112      ['batch_normalization_2[0][0]'\n",
            "                                                                    ]                             \n",
            "                                                                                                  \n",
            " conv2d_15 (Conv2D)          (None, 36, 4, 16)            4112      ['batch_normalization_2[0][0]'\n",
            "                                                                    ]                             \n",
            "                                                                                                  \n",
            " max_pooling2d_5 (MaxPoolin  (None, 36, 4, 256)           0         ['batch_normalization_2[0][0]'\n",
            " g2D)                                                               ]                             \n",
            "                                                                                                  \n",
            " conv2d_14 (Conv2D)          (None, 36, 4, 16)            2320      ['conv2d_13[0][0]']           \n",
            "                                                                                                  \n",
            " conv2d_16 (Conv2D)          (None, 36, 4, 16)            6416      ['conv2d_15[0][0]']           \n",
            "                                                                                                  \n",
            " conv2d_17 (Conv2D)          (None, 36, 4, 16)            4112      ['max_pooling2d_5[0][0]']     \n",
            "                                                                                                  \n",
            " concatenate_2 (Concatenate  (None, 108, 4, 16)           0         ['conv2d_14[0][0]',           \n",
            " )                                                                   'conv2d_16[0][0]',           \n",
            "                                                                     'conv2d_17[0][0]']           \n",
            "                                                                                                  \n",
            " flatten (Flatten)           (None, 6912)                 0         ['concatenate_2[0][0]']       \n",
            "                                                                                                  \n",
            " dense (Dense)               (None, 8)                    55304     ['flatten[0][0]']             \n",
            "                                                                                                  \n",
            "==================================================================================================\n",
            "Total params: 162424 (634.47 KB)\n",
            "Trainable params: 161528 (630.97 KB)\n",
            "Non-trainable params: 896 (3.50 KB)\n",
            "__________________________________________________________________________________________________\n"
          ]
        }
      ],
      "source": [
        "img_height, img_width, channel = x_train.shape[1],x_train.shape[2],x_train.shape[3]\n",
        "input = Input(shape=(img_height, img_width, channel,))\n",
        "\n",
        "\n",
        "Conv2D_1 = Conv2D(64, (3,3), activation='relu', padding='same')(input)\n",
        "MaxPool2D_1 = MaxPooling2D(pool_size=(2, 2), strides=(2,2))(Conv2D_1)\n",
        "BatchNorm_1 = BatchNormalization()(MaxPool2D_1)\n",
        "\n",
        "\n",
        "tower_1 = Conv2D(16, (1, 1), padding='same', activation='relu')(BatchNorm_1)\n",
        "tower_1 = Conv2D(16, (3, 3), padding='same', activation='relu')(tower_1)\n",
        "\n",
        "tower_2 = Conv2D(16, (1, 1), padding='same', activation='relu')(BatchNorm_1)\n",
        "tower_2 = Conv2D(16, (5, 5), padding='same', activation='relu')(tower_2)\n",
        "\n",
        "tower_3 = MaxPooling2D((3, 3), strides=(1, 1), padding='same')(BatchNorm_1)\n",
        "tower_3 = Conv2D(16, (1, 1), padding='same', activation='relu')(tower_3)\n",
        "\n",
        "output = keras.layers.concatenate([tower_1, tower_2, tower_3], axis=1)\n",
        "\n",
        "Conv2D_2 = Conv2D(128, (3,3), activation='relu', padding='same')(output)\n",
        "MaxPool2D_2 = MaxPooling2D(pool_size=(2, 2), strides=(2,2))(Conv2D_2)\n",
        "BatchNorm_2 = BatchNormalization()(MaxPool2D_2)\n",
        "\n",
        "\n",
        "tower_1 = Conv2D(16, (1, 1), padding='same', activation='relu')(BatchNorm_2)\n",
        "tower_1 = Conv2D(16, (3, 3), padding='same', activation='relu')(tower_1)\n",
        "\n",
        "tower_2 = Conv2D(16, (1, 1), padding='same', activation='relu')(BatchNorm_2)\n",
        "tower_2 = Conv2D(16, (5, 5), padding='same', activation='relu')(tower_2)\n",
        "\n",
        "tower_3 = MaxPooling2D((3, 3), strides=(1, 1), padding='same')(BatchNorm_2)\n",
        "tower_3 = Conv2D(16, (1, 1), padding='same', activation='relu')(tower_3)\n",
        "\n",
        "output = keras.layers.concatenate([tower_1, tower_2, tower_3], axis=1)\n",
        "\n",
        "Conv2D_3 = Conv2D(256, (3,3), activation='relu', padding='same')(output)\n",
        "MaxPool2D_3 = MaxPooling2D(pool_size=(2, 2), strides=(2,2))(Conv2D_3)\n",
        "BatchNorm_3 = BatchNormalization()(MaxPool2D_3)\n",
        "\n",
        "tower_1 = Conv2D(16, (1, 1), padding='same', activation='relu')(BatchNorm_3)\n",
        "tower_1 = Conv2D(16, (3, 3), padding='same', activation='relu')(tower_1)\n",
        "\n",
        "tower_2 = Conv2D(16, (1, 1), padding='same', activation='relu')(BatchNorm_3)\n",
        "tower_2 = Conv2D(16, (5, 5), padding='same', activation='relu')(tower_2)\n",
        "\n",
        "tower_3 = MaxPooling2D((3, 3), strides=(1, 1), padding='same')(BatchNorm_3)\n",
        "tower_3 = Conv2D(16, (1, 1), padding='same', activation='relu')(tower_3)\n",
        "\n",
        "output = keras.layers.concatenate([tower_1, tower_2, tower_3], axis=1)\n",
        "\n",
        "Output = Flatten()(output)\n",
        "Output = Dense(num_classes, activation='softmax')(Output)\n",
        "model = Model(inputs=[input], outputs=[Output])\n",
        "model.summary()"
      ]
    },
    {
      "cell_type": "code",
      "execution_count": null,
      "metadata": {
        "id": "8ZfeGbU4J3aB"
      },
      "outputs": [],
      "source": [
        "model.compile(loss='categorical_crossentropy',\n",
        "              optimizer=Adam(),\n",
        "              metrics=['accuracy',f1,specificity,sensitivity])"
      ]
    },
    {
      "cell_type": "code",
      "execution_count": null,
      "metadata": {
        "colab": {
          "base_uri": "https://localhost:8080/"
        },
        "id": "lXn3M6oYLc-R",
        "outputId": "40df8760-d52d-4f79-cabe-2291087a8aff"
      },
      "outputs": [
        {
          "output_type": "stream",
          "name": "stdout",
          "text": [
            "/content/drive/MyDrive/metro/GoogleNet.csv\n"
          ]
        }
      ],
      "source": [
        "print((METRICS_PATH+MODEL_NAME+\".csv\"))"
      ]
    },
    {
      "cell_type": "code",
      "execution_count": null,
      "metadata": {
        "id": "G_GW2KEVHXvh"
      },
      "outputs": [],
      "source": [
        "lr_reducer = ReduceLROnPlateau(factor=np.sqrt(0.1), cooldown=0, patience=5, min_lr=0.5e-6)\n",
        "csv_logger = CSVLogger(METRICS_PATH+MODEL_NAME+\".csv\")\n",
        "model_chekpoint = ModelCheckpoint(\"GoogleNet.hdf5\",monitor = 'val_loss',verbose = 1,save_best_only=True)\n"
      ]
    },
    {
      "cell_type": "markdown",
      "metadata": {
        "id": "vavqPMAvNWQQ"
      },
      "source": [
        "# Model Training"
      ]
    },
    {
      "cell_type": "code",
      "execution_count": null,
      "metadata": {
        "id": "DMTEO8kRHEq3"
      },
      "outputs": [],
      "source": [
        "batch_size = 16\n",
        "data_augmentation = True\n",
        "epochs = 100"
      ]
    },
    {
      "cell_type": "code",
      "execution_count": null,
      "metadata": {
        "colab": {
          "base_uri": "https://localhost:8080/"
        },
        "id": "9m2mVaSaHxVN",
        "outputId": "acbc9a72-df95-4e1d-8cc1-7ec6f13068c8"
      },
      "outputs": [
        {
          "output_type": "stream",
          "name": "stdout",
          "text": [
            "Using real-time data augmentation.\n",
            "Epoch 1/100\n"
          ]
        },
        {
          "output_type": "stream",
          "name": "stderr",
          "text": [
            "<ipython-input-20-1769102c3309>:19: UserWarning: `Model.fit_generator` is deprecated and will be removed in a future version. Please use `Model.fit`, which supports generators.\n",
            "  history = model.fit_generator(datagen.flow(x_train, y_train,\n"
          ]
        },
        {
          "output_type": "stream",
          "name": "stdout",
          "text": [
            "402/402 [==============================] - 21s 23ms/step - loss: 1.5977 - accuracy: 0.4303 - f1: 0.3182 - specificity: 0.9825 - sensitivity: 0.2225 - val_loss: 2.0640 - val_accuracy: 0.3143 - val_f1: 0.3040 - val_specificity: 0.9481 - val_sensitivity: 0.2458 - lr: 0.0010\n",
            "Epoch 2/100\n",
            "402/402 [==============================] - 6s 16ms/step - loss: 1.3072 - accuracy: 0.5322 - f1: 0.4651 - specificity: 0.9799 - sensitivity: 0.3526 - val_loss: 1.2914 - val_accuracy: 0.5414 - val_f1: 0.5061 - val_specificity: 0.9776 - val_sensitivity: 0.3945 - lr: 0.0010\n",
            "Epoch 3/100\n",
            "402/402 [==============================] - 7s 18ms/step - loss: 1.1517 - accuracy: 0.5885 - f1: 0.5457 - specificity: 0.9770 - sensitivity: 0.4427 - val_loss: 1.1588 - val_accuracy: 0.5912 - val_f1: 0.5790 - val_specificity: 0.9772 - val_sensitivity: 0.4767 - lr: 0.0010\n",
            "Epoch 4/100\n",
            "402/402 [==============================] - 8s 19ms/step - loss: 1.0682 - accuracy: 0.6229 - f1: 0.5920 - specificity: 0.9762 - sensitivity: 0.4960 - val_loss: 1.3972 - val_accuracy: 0.5271 - val_f1: 0.5213 - val_specificity: 0.9637 - val_sensitivity: 0.4435 - lr: 0.0010\n",
            "Epoch 5/100\n",
            "402/402 [==============================] - 6s 16ms/step - loss: 0.9745 - accuracy: 0.6556 - f1: 0.6386 - specificity: 0.9761 - sensitivity: 0.5525 - val_loss: 1.7396 - val_accuracy: 0.4667 - val_f1: 0.4707 - val_specificity: 0.9589 - val_sensitivity: 0.3982 - lr: 0.0010\n",
            "Epoch 6/100\n",
            "402/402 [==============================] - 8s 19ms/step - loss: 0.9105 - accuracy: 0.6871 - f1: 0.6674 - specificity: 0.9766 - sensitivity: 0.5880 - val_loss: 0.9582 - val_accuracy: 0.6677 - val_f1: 0.6569 - val_specificity: 0.9723 - val_sensitivity: 0.5854 - lr: 0.0010\n",
            "Epoch 7/100\n",
            "402/402 [==============================] - 6s 16ms/step - loss: 0.8414 - accuracy: 0.7093 - f1: 0.6957 - specificity: 0.9765 - sensitivity: 0.6246 - val_loss: 0.9177 - val_accuracy: 0.6889 - val_f1: 0.6912 - val_specificity: 0.9716 - val_sensitivity: 0.6338 - lr: 0.0010\n",
            "Epoch 8/100\n",
            "402/402 [==============================] - 9s 22ms/step - loss: 0.8068 - accuracy: 0.7214 - f1: 0.7099 - specificity: 0.9762 - sensitivity: 0.6456 - val_loss: 0.8409 - val_accuracy: 0.7013 - val_f1: 0.7022 - val_specificity: 0.9773 - val_sensitivity: 0.6287 - lr: 0.0010\n",
            "Epoch 9/100\n",
            "402/402 [==============================] - 6s 16ms/step - loss: 0.7396 - accuracy: 0.7445 - f1: 0.7310 - specificity: 0.9767 - sensitivity: 0.6734 - val_loss: 0.8592 - val_accuracy: 0.7144 - val_f1: 0.7104 - val_specificity: 0.9765 - val_sensitivity: 0.6430 - lr: 0.0010\n",
            "Epoch 10/100\n",
            "402/402 [==============================] - 8s 19ms/step - loss: 0.7334 - accuracy: 0.7498 - f1: 0.7411 - specificity: 0.9784 - sensitivity: 0.6816 - val_loss: 0.8073 - val_accuracy: 0.7281 - val_f1: 0.7220 - val_specificity: 0.9783 - val_sensitivity: 0.6532 - lr: 0.0010\n",
            "Epoch 11/100\n",
            "402/402 [==============================] - 7s 16ms/step - loss: 0.6886 - accuracy: 0.7681 - f1: 0.7613 - specificity: 0.9789 - sensitivity: 0.7085 - val_loss: 0.8568 - val_accuracy: 0.7044 - val_f1: 0.7055 - val_specificity: 0.9740 - val_sensitivity: 0.6464 - lr: 0.0010\n",
            "Epoch 12/100\n",
            "402/402 [==============================] - 7s 18ms/step - loss: 0.6430 - accuracy: 0.7812 - f1: 0.7746 - specificity: 0.9789 - sensitivity: 0.7280 - val_loss: 0.7638 - val_accuracy: 0.7517 - val_f1: 0.7432 - val_specificity: 0.9749 - val_sensitivity: 0.6966 - lr: 0.0010\n",
            "Epoch 13/100\n",
            "402/402 [==============================] - 9s 22ms/step - loss: 0.6175 - accuracy: 0.7868 - f1: 0.7824 - specificity: 0.9794 - sensitivity: 0.7371 - val_loss: 0.8670 - val_accuracy: 0.7194 - val_f1: 0.7222 - val_specificity: 0.9708 - val_sensitivity: 0.6816 - lr: 0.0010\n",
            "Epoch 14/100\n",
            "402/402 [==============================] - 6s 16ms/step - loss: 0.5987 - accuracy: 0.7924 - f1: 0.7910 - specificity: 0.9801 - sensitivity: 0.7484 - val_loss: 0.6169 - val_accuracy: 0.7946 - val_f1: 0.7903 - val_specificity: 0.9802 - val_sensitivity: 0.7454 - lr: 0.0010\n",
            "Epoch 15/100\n",
            "402/402 [==============================] - 10s 24ms/step - loss: 0.5729 - accuracy: 0.8013 - f1: 0.7984 - specificity: 0.9798 - sensitivity: 0.7606 - val_loss: 0.7239 - val_accuracy: 0.7579 - val_f1: 0.7606 - val_specificity: 0.9743 - val_sensitivity: 0.7255 - lr: 0.0010\n",
            "Epoch 16/100\n",
            "402/402 [==============================] - 7s 17ms/step - loss: 0.5384 - accuracy: 0.8129 - f1: 0.8116 - specificity: 0.9807 - sensitivity: 0.7768 - val_loss: 0.6424 - val_accuracy: 0.7853 - val_f1: 0.7851 - val_specificity: 0.9775 - val_sensitivity: 0.7488 - lr: 0.0010\n",
            "Epoch 17/100\n",
            "402/402 [==============================] - 7s 16ms/step - loss: 0.5430 - accuracy: 0.8140 - f1: 0.8114 - specificity: 0.9816 - sensitivity: 0.7732 - val_loss: 0.7306 - val_accuracy: 0.7617 - val_f1: 0.7593 - val_specificity: 0.9752 - val_sensitivity: 0.7190 - lr: 0.0010\n",
            "Epoch 18/100\n",
            "402/402 [==============================] - 8s 19ms/step - loss: 0.5251 - accuracy: 0.8212 - f1: 0.8208 - specificity: 0.9818 - sensitivity: 0.7863 - val_loss: 0.8043 - val_accuracy: 0.7324 - val_f1: 0.7295 - val_specificity: 0.9705 - val_sensitivity: 0.6935 - lr: 0.0010\n",
            "Epoch 19/100\n",
            "402/402 [==============================] - 6s 16ms/step - loss: 0.4956 - accuracy: 0.8322 - f1: 0.8318 - specificity: 0.9824 - sensitivity: 0.8014 - val_loss: 0.6209 - val_accuracy: 0.7922 - val_f1: 0.8007 - val_specificity: 0.9786 - val_sensitivity: 0.7684 - lr: 0.0010\n",
            "Epoch 20/100\n",
            "402/402 [==============================] - 8s 19ms/step - loss: 0.3695 - accuracy: 0.8725 - f1: 0.8718 - specificity: 0.9865 - sensitivity: 0.8479 - val_loss: 0.5674 - val_accuracy: 0.8276 - val_f1: 0.8280 - val_specificity: 0.9798 - val_sensitivity: 0.8070 - lr: 3.1623e-04\n",
            "Epoch 21/100\n",
            "402/402 [==============================] - 7s 16ms/step - loss: 0.3081 - accuracy: 0.8946 - f1: 0.8966 - specificity: 0.9887 - sensitivity: 0.8780 - val_loss: 0.4057 - val_accuracy: 0.8737 - val_f1: 0.8781 - val_specificity: 0.9863 - val_sensitivity: 0.8578 - lr: 3.1623e-04\n",
            "Epoch 22/100\n",
            "402/402 [==============================] - 7s 18ms/step - loss: 0.2979 - accuracy: 0.8970 - f1: 0.8975 - specificity: 0.9884 - sensitivity: 0.8811 - val_loss: 0.5111 - val_accuracy: 0.8413 - val_f1: 0.8406 - val_specificity: 0.9814 - val_sensitivity: 0.8199 - lr: 3.1623e-04\n",
            "Epoch 23/100\n",
            "402/402 [==============================] - 7s 18ms/step - loss: 0.2659 - accuracy: 0.9143 - f1: 0.9116 - specificity: 0.9901 - sensitivity: 0.8967 - val_loss: 0.3729 - val_accuracy: 0.8774 - val_f1: 0.8839 - val_specificity: 0.9860 - val_sensitivity: 0.8701 - lr: 3.1623e-04\n",
            "Epoch 24/100\n",
            "402/402 [==============================] - 6s 16ms/step - loss: 0.2422 - accuracy: 0.9188 - f1: 0.9197 - specificity: 0.9909 - sensitivity: 0.9067 - val_loss: 0.3973 - val_accuracy: 0.8787 - val_f1: 0.8799 - val_specificity: 0.9858 - val_sensitivity: 0.8634 - lr: 3.1623e-04\n",
            "Epoch 25/100\n",
            "402/402 [==============================] - 6s 16ms/step - loss: 0.2474 - accuracy: 0.9183 - f1: 0.9198 - specificity: 0.9909 - sensitivity: 0.9066 - val_loss: 0.3901 - val_accuracy: 0.8811 - val_f1: 0.8831 - val_specificity: 0.9857 - val_sensitivity: 0.8701 - lr: 3.1623e-04\n",
            "Epoch 26/100\n",
            "402/402 [==============================] - 8s 19ms/step - loss: 0.2280 - accuracy: 0.9245 - f1: 0.9250 - specificity: 0.9910 - sensitivity: 0.9155 - val_loss: 0.3665 - val_accuracy: 0.8899 - val_f1: 0.8928 - val_specificity: 0.9870 - val_sensitivity: 0.8799 - lr: 3.1623e-04\n",
            "Epoch 27/100\n",
            "402/402 [==============================] - 7s 18ms/step - loss: 0.2243 - accuracy: 0.9230 - f1: 0.9234 - specificity: 0.9909 - sensitivity: 0.9130 - val_loss: 0.4083 - val_accuracy: 0.8768 - val_f1: 0.8799 - val_specificity: 0.9856 - val_sensitivity: 0.8652 - lr: 3.1623e-04\n",
            "Epoch 28/100\n",
            "402/402 [==============================] - 7s 17ms/step - loss: 0.2161 - accuracy: 0.9295 - f1: 0.9290 - specificity: 0.9918 - sensitivity: 0.9183 - val_loss: 0.3833 - val_accuracy: 0.8849 - val_f1: 0.8868 - val_specificity: 0.9860 - val_sensitivity: 0.8750 - lr: 3.1623e-04\n",
            "Epoch 29/100\n",
            "402/402 [==============================] - 8s 20ms/step - loss: 0.2089 - accuracy: 0.9275 - f1: 0.9270 - specificity: 0.9915 - sensitivity: 0.9163 - val_loss: 0.3841 - val_accuracy: 0.8755 - val_f1: 0.8745 - val_specificity: 0.9845 - val_sensitivity: 0.8618 - lr: 3.1623e-04\n",
            "Epoch 30/100\n",
            "402/402 [==============================] - 7s 18ms/step - loss: 0.2028 - accuracy: 0.9336 - f1: 0.9342 - specificity: 0.9923 - sensitivity: 0.9248 - val_loss: 0.3164 - val_accuracy: 0.9011 - val_f1: 0.9043 - val_specificity: 0.9886 - val_sensitivity: 0.8915 - lr: 3.1623e-04\n",
            "Epoch 31/100\n",
            "402/402 [==============================] - 8s 19ms/step - loss: 0.1912 - accuracy: 0.9354 - f1: 0.9367 - specificity: 0.9925 - sensitivity: 0.9275 - val_loss: 0.3204 - val_accuracy: 0.8979 - val_f1: 0.9024 - val_specificity: 0.9881 - val_sensitivity: 0.8909 - lr: 3.1623e-04\n",
            "Epoch 32/100\n",
            "402/402 [==============================] - 8s 19ms/step - loss: 0.1933 - accuracy: 0.9351 - f1: 0.9348 - specificity: 0.9920 - sensitivity: 0.9272 - val_loss: 0.3287 - val_accuracy: 0.9110 - val_f1: 0.9091 - val_specificity: 0.9886 - val_sensitivity: 0.9001 - lr: 3.1623e-04\n",
            "Epoch 33/100\n",
            "402/402 [==============================] - 8s 19ms/step - loss: 0.1896 - accuracy: 0.9346 - f1: 0.9356 - specificity: 0.9923 - sensitivity: 0.9267 - val_loss: 0.4990 - val_accuracy: 0.8438 - val_f1: 0.8475 - val_specificity: 0.9809 - val_sensitivity: 0.8339 - lr: 3.1623e-04\n",
            "Epoch 34/100\n",
            "402/402 [==============================] - 8s 19ms/step - loss: 0.1734 - accuracy: 0.9398 - f1: 0.9404 - specificity: 0.9926 - sensitivity: 0.9339 - val_loss: 0.3264 - val_accuracy: 0.8967 - val_f1: 0.8963 - val_specificity: 0.9876 - val_sensitivity: 0.8830 - lr: 3.1623e-04\n",
            "Epoch 35/100\n",
            "402/402 [==============================] - 6s 16ms/step - loss: 0.1674 - accuracy: 0.9406 - f1: 0.9411 - specificity: 0.9929 - sensitivity: 0.9334 - val_loss: 0.3063 - val_accuracy: 0.9141 - val_f1: 0.9155 - val_specificity: 0.9894 - val_sensitivity: 0.9069 - lr: 3.1623e-04\n",
            "Epoch 36/100\n",
            "402/402 [==============================] - 8s 19ms/step - loss: 0.1664 - accuracy: 0.9427 - f1: 0.9435 - specificity: 0.9935 - sensitivity: 0.9344 - val_loss: 0.3727 - val_accuracy: 0.8948 - val_f1: 0.8955 - val_specificity: 0.9870 - val_sensitivity: 0.8842 - lr: 3.1623e-04\n",
            "Epoch 37/100\n",
            "402/402 [==============================] - 6s 16ms/step - loss: 0.1699 - accuracy: 0.9423 - f1: 0.9423 - specificity: 0.9929 - sensitivity: 0.9356 - val_loss: 0.3051 - val_accuracy: 0.9029 - val_f1: 0.9047 - val_specificity: 0.9884 - val_sensitivity: 0.8934 - lr: 3.1623e-04\n",
            "Epoch 38/100\n",
            "402/402 [==============================] - 8s 21ms/step - loss: 0.1594 - accuracy: 0.9471 - f1: 0.9473 - specificity: 0.9935 - sensitivity: 0.9415 - val_loss: 0.3606 - val_accuracy: 0.8917 - val_f1: 0.8958 - val_specificity: 0.9872 - val_sensitivity: 0.8842 - lr: 3.1623e-04\n",
            "Epoch 39/100\n",
            "402/402 [==============================] - 7s 17ms/step - loss: 0.1468 - accuracy: 0.9519 - f1: 0.9509 - specificity: 0.9941 - sensitivity: 0.9442 - val_loss: 0.2695 - val_accuracy: 0.9110 - val_f1: 0.9146 - val_specificity: 0.9889 - val_sensitivity: 0.9081 - lr: 3.1623e-04\n",
            "Epoch 40/100\n",
            "402/402 [==============================] - 7s 18ms/step - loss: 0.1531 - accuracy: 0.9448 - f1: 0.9481 - specificity: 0.9936 - sensitivity: 0.9422 - val_loss: 0.3950 - val_accuracy: 0.8793 - val_f1: 0.8847 - val_specificity: 0.9853 - val_sensitivity: 0.8750 - lr: 3.1623e-04\n",
            "Epoch 41/100\n",
            "402/402 [==============================] - 7s 18ms/step - loss: 0.1656 - accuracy: 0.9437 - f1: 0.9450 - specificity: 0.9932 - sensitivity: 0.9384 - val_loss: 0.3319 - val_accuracy: 0.8979 - val_f1: 0.9008 - val_specificity: 0.9877 - val_sensitivity: 0.8909 - lr: 3.1623e-04\n",
            "Epoch 42/100\n",
            "402/402 [==============================] - 8s 20ms/step - loss: 0.1461 - accuracy: 0.9499 - f1: 0.9509 - specificity: 0.9940 - sensitivity: 0.9445 - val_loss: 0.3219 - val_accuracy: 0.9029 - val_f1: 0.9056 - val_specificity: 0.9884 - val_sensitivity: 0.8952 - lr: 3.1623e-04\n",
            "Epoch 43/100\n",
            "402/402 [==============================] - 6s 16ms/step - loss: 0.1357 - accuracy: 0.9533 - f1: 0.9541 - specificity: 0.9941 - sensitivity: 0.9501 - val_loss: 0.2921 - val_accuracy: 0.9179 - val_f1: 0.9187 - val_specificity: 0.9896 - val_sensitivity: 0.9118 - lr: 3.1623e-04\n",
            "Epoch 44/100\n",
            "402/402 [==============================] - 8s 19ms/step - loss: 0.1375 - accuracy: 0.9556 - f1: 0.9552 - specificity: 0.9944 - sensitivity: 0.9507 - val_loss: 0.3010 - val_accuracy: 0.9098 - val_f1: 0.9121 - val_specificity: 0.9884 - val_sensitivity: 0.9062 - lr: 3.1623e-04\n",
            "Epoch 45/100\n",
            "402/402 [==============================] - 6s 16ms/step - loss: 0.1056 - accuracy: 0.9651 - f1: 0.9649 - specificity: 0.9957 - sensitivity: 0.9605 - val_loss: 0.2811 - val_accuracy: 0.9166 - val_f1: 0.9209 - val_specificity: 0.9901 - val_sensitivity: 0.9130 - lr: 1.0000e-04\n",
            "Epoch 46/100\n",
            "402/402 [==============================] - 8s 19ms/step - loss: 0.0970 - accuracy: 0.9686 - f1: 0.9689 - specificity: 0.9963 - sensitivity: 0.9646 - val_loss: 0.2591 - val_accuracy: 0.9266 - val_f1: 0.9287 - val_specificity: 0.9912 - val_sensitivity: 0.9203 - lr: 1.0000e-04\n",
            "Epoch 47/100\n",
            "402/402 [==============================] - 9s 21ms/step - loss: 0.0915 - accuracy: 0.9706 - f1: 0.9704 - specificity: 0.9964 - sensitivity: 0.9664 - val_loss: 0.2834 - val_accuracy: 0.9185 - val_f1: 0.9218 - val_specificity: 0.9900 - val_sensitivity: 0.9148 - lr: 1.0000e-04\n",
            "Epoch 48/100\n",
            "402/402 [==============================] - 6s 16ms/step - loss: 0.0917 - accuracy: 0.9711 - f1: 0.9703 - specificity: 0.9964 - sensitivity: 0.9661 - val_loss: 0.2586 - val_accuracy: 0.9284 - val_f1: 0.9296 - val_specificity: 0.9909 - val_sensitivity: 0.9240 - lr: 1.0000e-04\n",
            "Epoch 49/100\n",
            "402/402 [==============================] - 8s 19ms/step - loss: 0.0882 - accuracy: 0.9726 - f1: 0.9714 - specificity: 0.9964 - sensitivity: 0.9682 - val_loss: 0.2772 - val_accuracy: 0.9235 - val_f1: 0.9245 - val_specificity: 0.9905 - val_sensitivity: 0.9173 - lr: 1.0000e-04\n",
            "Epoch 50/100\n",
            "402/402 [==============================] - 6s 16ms/step - loss: 0.0943 - accuracy: 0.9703 - f1: 0.9703 - specificity: 0.9964 - sensitivity: 0.9666 - val_loss: 0.2536 - val_accuracy: 0.9291 - val_f1: 0.9310 - val_specificity: 0.9912 - val_sensitivity: 0.9246 - lr: 1.0000e-04\n",
            "Epoch 51/100\n",
            "402/402 [==============================] - 6s 16ms/step - loss: 0.0746 - accuracy: 0.9749 - f1: 0.9742 - specificity: 0.9967 - sensitivity: 0.9720 - val_loss: 0.2327 - val_accuracy: 0.9428 - val_f1: 0.9440 - val_specificity: 0.9926 - val_sensitivity: 0.9400 - lr: 1.0000e-04\n",
            "Epoch 52/100\n",
            "402/402 [==============================] - 8s 19ms/step - loss: 0.0789 - accuracy: 0.9739 - f1: 0.9743 - specificity: 0.9967 - sensitivity: 0.9719 - val_loss: 0.2528 - val_accuracy: 0.9353 - val_f1: 0.9349 - val_specificity: 0.9921 - val_sensitivity: 0.9265 - lr: 1.0000e-04\n",
            "Epoch 53/100\n",
            "402/402 [==============================] - 6s 16ms/step - loss: 0.0793 - accuracy: 0.9763 - f1: 0.9766 - specificity: 0.9971 - sensitivity: 0.9740 - val_loss: 0.2410 - val_accuracy: 0.9396 - val_f1: 0.9392 - val_specificity: 0.9923 - val_sensitivity: 0.9332 - lr: 1.0000e-04\n",
            "Epoch 54/100\n",
            "402/402 [==============================] - 8s 19ms/step - loss: 0.0769 - accuracy: 0.9748 - f1: 0.9754 - specificity: 0.9969 - sensitivity: 0.9729 - val_loss: 0.2430 - val_accuracy: 0.9340 - val_f1: 0.9372 - val_specificity: 0.9922 - val_sensitivity: 0.9301 - lr: 1.0000e-04\n",
            "Epoch 55/100\n",
            "402/402 [==============================] - 6s 16ms/step - loss: 0.0682 - accuracy: 0.9771 - f1: 0.9776 - specificity: 0.9971 - sensitivity: 0.9756 - val_loss: 0.2794 - val_accuracy: 0.9253 - val_f1: 0.9285 - val_specificity: 0.9905 - val_sensitivity: 0.9240 - lr: 1.0000e-04\n",
            "Epoch 56/100\n",
            "402/402 [==============================] - 7s 17ms/step - loss: 0.0692 - accuracy: 0.9767 - f1: 0.9769 - specificity: 0.9971 - sensitivity: 0.9743 - val_loss: 0.2580 - val_accuracy: 0.9284 - val_f1: 0.9301 - val_specificity: 0.9905 - val_sensitivity: 0.9271 - lr: 1.0000e-04\n",
            "Epoch 57/100\n",
            "402/402 [==============================] - 8s 19ms/step - loss: 0.0689 - accuracy: 0.9768 - f1: 0.9774 - specificity: 0.9971 - sensitivity: 0.9750 - val_loss: 0.2295 - val_accuracy: 0.9390 - val_f1: 0.9391 - val_specificity: 0.9919 - val_sensitivity: 0.9357 - lr: 3.1623e-05\n",
            "Epoch 58/100\n",
            "402/402 [==============================] - 7s 16ms/step - loss: 0.0625 - accuracy: 0.9799 - f1: 0.9798 - specificity: 0.9975 - sensitivity: 0.9776 - val_loss: 0.2378 - val_accuracy: 0.9359 - val_f1: 0.9383 - val_specificity: 0.9919 - val_sensitivity: 0.9338 - lr: 3.1623e-05\n",
            "Epoch 59/100\n",
            "402/402 [==============================] - 8s 19ms/step - loss: 0.0612 - accuracy: 0.9826 - f1: 0.9818 - specificity: 0.9978 - sensitivity: 0.9795 - val_loss: 0.2270 - val_accuracy: 0.9428 - val_f1: 0.9433 - val_specificity: 0.9926 - val_sensitivity: 0.9393 - lr: 3.1623e-05\n",
            "Epoch 60/100\n",
            "402/402 [==============================] - 8s 19ms/step - loss: 0.0589 - accuracy: 0.9810 - f1: 0.9812 - specificity: 0.9976 - sensitivity: 0.9795 - val_loss: 0.2263 - val_accuracy: 0.9428 - val_f1: 0.9450 - val_specificity: 0.9932 - val_sensitivity: 0.9387 - lr: 3.1623e-05\n",
            "Epoch 61/100\n",
            "402/402 [==============================] - 6s 16ms/step - loss: 0.0654 - accuracy: 0.9785 - f1: 0.9786 - specificity: 0.9973 - sensitivity: 0.9765 - val_loss: 0.2207 - val_accuracy: 0.9428 - val_f1: 0.9445 - val_specificity: 0.9930 - val_sensitivity: 0.9387 - lr: 3.1623e-05\n",
            "Epoch 62/100\n",
            "402/402 [==============================] - 8s 21ms/step - loss: 0.0548 - accuracy: 0.9823 - f1: 0.9822 - specificity: 0.9978 - sensitivity: 0.9804 - val_loss: 0.2303 - val_accuracy: 0.9440 - val_f1: 0.9427 - val_specificity: 0.9926 - val_sensitivity: 0.9381 - lr: 3.1623e-05\n",
            "Epoch 63/100\n",
            "402/402 [==============================] - 7s 17ms/step - loss: 0.0478 - accuracy: 0.9857 - f1: 0.9858 - specificity: 0.9982 - sensitivity: 0.9844 - val_loss: 0.2213 - val_accuracy: 0.9459 - val_f1: 0.9467 - val_specificity: 0.9931 - val_sensitivity: 0.9424 - lr: 3.1623e-05\n",
            "Epoch 64/100\n",
            "402/402 [==============================] - 10s 24ms/step - loss: 0.0624 - accuracy: 0.9804 - f1: 0.9807 - specificity: 0.9976 - sensitivity: 0.9787 - val_loss: 0.2347 - val_accuracy: 0.9421 - val_f1: 0.9420 - val_specificity: 0.9925 - val_sensitivity: 0.9375 - lr: 3.1623e-05\n",
            "Epoch 65/100\n",
            "402/402 [==============================] - 6s 16ms/step - loss: 0.0591 - accuracy: 0.9801 - f1: 0.9803 - specificity: 0.9974 - sensitivity: 0.9789 - val_loss: 0.2273 - val_accuracy: 0.9446 - val_f1: 0.9444 - val_specificity: 0.9930 - val_sensitivity: 0.9387 - lr: 3.1623e-05\n",
            "Epoch 66/100\n",
            "402/402 [==============================] - 8s 19ms/step - loss: 0.0564 - accuracy: 0.9816 - f1: 0.9821 - specificity: 0.9977 - sensitivity: 0.9804 - val_loss: 0.2255 - val_accuracy: 0.9421 - val_f1: 0.9460 - val_specificity: 0.9931 - val_sensitivity: 0.9412 - lr: 3.1623e-05\n",
            "Epoch 67/100\n",
            "402/402 [==============================] - 7s 17ms/step - loss: 0.0516 - accuracy: 0.9830 - f1: 0.9832 - specificity: 0.9978 - sensitivity: 0.9818 - val_loss: 0.2245 - val_accuracy: 0.9446 - val_f1: 0.9467 - val_specificity: 0.9932 - val_sensitivity: 0.9418 - lr: 1.0000e-05\n",
            "Epoch 68/100\n",
            "402/402 [==============================] - 7s 18ms/step - loss: 0.0518 - accuracy: 0.9841 - f1: 0.9841 - specificity: 0.9980 - sensitivity: 0.9821 - val_loss: 0.2140 - val_accuracy: 0.9496 - val_f1: 0.9492 - val_specificity: 0.9933 - val_sensitivity: 0.9455 - lr: 1.0000e-05\n",
            "Epoch 69/100\n",
            "402/402 [==============================] - 9s 23ms/step - loss: 0.0648 - accuracy: 0.9815 - f1: 0.9811 - specificity: 0.9975 - sensitivity: 0.9796 - val_loss: 0.2235 - val_accuracy: 0.9459 - val_f1: 0.9471 - val_specificity: 0.9930 - val_sensitivity: 0.9436 - lr: 1.0000e-05\n",
            "Epoch 70/100\n",
            "402/402 [==============================] - 8s 19ms/step - loss: 0.0531 - accuracy: 0.9824 - f1: 0.9819 - specificity: 0.9977 - sensitivity: 0.9801 - val_loss: 0.2256 - val_accuracy: 0.9459 - val_f1: 0.9477 - val_specificity: 0.9931 - val_sensitivity: 0.9442 - lr: 1.0000e-05\n",
            "Epoch 71/100\n",
            "402/402 [==============================] - 6s 16ms/step - loss: 0.0518 - accuracy: 0.9827 - f1: 0.9831 - specificity: 0.9978 - sensitivity: 0.9818 - val_loss: 0.2302 - val_accuracy: 0.9440 - val_f1: 0.9470 - val_specificity: 0.9933 - val_sensitivity: 0.9418 - lr: 1.0000e-05\n",
            "Epoch 72/100\n",
            "402/402 [==============================] - 7s 18ms/step - loss: 0.0517 - accuracy: 0.9829 - f1: 0.9825 - specificity: 0.9979 - sensitivity: 0.9801 - val_loss: 0.2299 - val_accuracy: 0.9446 - val_f1: 0.9451 - val_specificity: 0.9929 - val_sensitivity: 0.9406 - lr: 1.0000e-05\n",
            "Epoch 73/100\n",
            "402/402 [==============================] - 8s 19ms/step - loss: 0.0511 - accuracy: 0.9841 - f1: 0.9841 - specificity: 0.9980 - sensitivity: 0.9826 - val_loss: 0.2290 - val_accuracy: 0.9452 - val_f1: 0.9482 - val_specificity: 0.9933 - val_sensitivity: 0.9442 - lr: 1.0000e-05\n",
            "Epoch 74/100\n",
            "402/402 [==============================] - 6s 16ms/step - loss: 0.0517 - accuracy: 0.9844 - f1: 0.9844 - specificity: 0.9980 - sensitivity: 0.9826 - val_loss: 0.2264 - val_accuracy: 0.9459 - val_f1: 0.9480 - val_specificity: 0.9932 - val_sensitivity: 0.9442 - lr: 3.1623e-06\n",
            "Epoch 75/100\n",
            "402/402 [==============================] - 8s 19ms/step - loss: 0.0540 - accuracy: 0.9813 - f1: 0.9816 - specificity: 0.9976 - sensitivity: 0.9804 - val_loss: 0.2238 - val_accuracy: 0.9471 - val_f1: 0.9477 - val_specificity: 0.9931 - val_sensitivity: 0.9442 - lr: 3.1623e-06\n",
            "Epoch 76/100\n",
            "402/402 [==============================] - 6s 16ms/step - loss: 0.0505 - accuracy: 0.9847 - f1: 0.9840 - specificity: 0.9980 - sensitivity: 0.9821 - val_loss: 0.2257 - val_accuracy: 0.9477 - val_f1: 0.9486 - val_specificity: 0.9932 - val_sensitivity: 0.9455 - lr: 3.1623e-06\n",
            "Epoch 77/100\n",
            "402/402 [==============================] - 8s 19ms/step - loss: 0.0485 - accuracy: 0.9854 - f1: 0.9852 - specificity: 0.9980 - sensitivity: 0.9843 - val_loss: 0.2257 - val_accuracy: 0.9459 - val_f1: 0.9479 - val_specificity: 0.9933 - val_sensitivity: 0.9436 - lr: 3.1623e-06\n",
            "Epoch 78/100\n",
            "402/402 [==============================] - 7s 18ms/step - loss: 0.0548 - accuracy: 0.9841 - f1: 0.9839 - specificity: 0.9979 - sensitivity: 0.9826 - val_loss: 0.2255 - val_accuracy: 0.9471 - val_f1: 0.9478 - val_specificity: 0.9930 - val_sensitivity: 0.9449 - lr: 3.1623e-06\n",
            "Epoch 79/100\n",
            "402/402 [==============================] - 8s 21ms/step - loss: 0.0508 - accuracy: 0.9830 - f1: 0.9833 - specificity: 0.9980 - sensitivity: 0.9809 - val_loss: 0.2281 - val_accuracy: 0.9446 - val_f1: 0.9470 - val_specificity: 0.9931 - val_sensitivity: 0.9430 - lr: 1.0000e-06\n",
            "Epoch 80/100\n",
            "402/402 [==============================] - 8s 19ms/step - loss: 0.0546 - accuracy: 0.9829 - f1: 0.9834 - specificity: 0.9979 - sensitivity: 0.9817 - val_loss: 0.2255 - val_accuracy: 0.9452 - val_f1: 0.9479 - val_specificity: 0.9933 - val_sensitivity: 0.9436 - lr: 1.0000e-06\n",
            "Epoch 81/100\n",
            "402/402 [==============================] - 8s 21ms/step - loss: 0.0532 - accuracy: 0.9818 - f1: 0.9820 - specificity: 0.9977 - sensitivity: 0.9804 - val_loss: 0.2249 - val_accuracy: 0.9459 - val_f1: 0.9477 - val_specificity: 0.9931 - val_sensitivity: 0.9442 - lr: 1.0000e-06\n",
            "Epoch 82/100\n",
            "402/402 [==============================] - 8s 19ms/step - loss: 0.0485 - accuracy: 0.9862 - f1: 0.9855 - specificity: 0.9982 - sensitivity: 0.9839 - val_loss: 0.2267 - val_accuracy: 0.9465 - val_f1: 0.9483 - val_specificity: 0.9932 - val_sensitivity: 0.9449 - lr: 1.0000e-06\n",
            "Epoch 83/100\n",
            "402/402 [==============================] - 7s 17ms/step - loss: 0.0474 - accuracy: 0.9847 - f1: 0.9849 - specificity: 0.9980 - sensitivity: 0.9837 - val_loss: 0.2271 - val_accuracy: 0.9459 - val_f1: 0.9486 - val_specificity: 0.9933 - val_sensitivity: 0.9449 - lr: 1.0000e-06\n",
            "Epoch 84/100\n",
            "402/402 [==============================] - 6s 16ms/step - loss: 0.0561 - accuracy: 0.9804 - f1: 0.9809 - specificity: 0.9976 - sensitivity: 0.9792 - val_loss: 0.2238 - val_accuracy: 0.9459 - val_f1: 0.9470 - val_specificity: 0.9931 - val_sensitivity: 0.9430 - lr: 5.0000e-07\n",
            "Epoch 85/100\n",
            "402/402 [==============================] - 9s 22ms/step - loss: 0.0517 - accuracy: 0.9849 - f1: 0.9847 - specificity: 0.9981 - sensitivity: 0.9831 - val_loss: 0.2248 - val_accuracy: 0.9440 - val_f1: 0.9467 - val_specificity: 0.9931 - val_sensitivity: 0.9424 - lr: 5.0000e-07\n",
            "Epoch 86/100\n",
            "402/402 [==============================] - 7s 18ms/step - loss: 0.0505 - accuracy: 0.9852 - f1: 0.9854 - specificity: 0.9982 - sensitivity: 0.9834 - val_loss: 0.2267 - val_accuracy: 0.9465 - val_f1: 0.9477 - val_specificity: 0.9931 - val_sensitivity: 0.9442 - lr: 5.0000e-07\n",
            "Epoch 87/100\n",
            "402/402 [==============================] - 7s 17ms/step - loss: 0.0519 - accuracy: 0.9819 - f1: 0.9824 - specificity: 0.9977 - sensitivity: 0.9809 - val_loss: 0.2226 - val_accuracy: 0.9459 - val_f1: 0.9471 - val_specificity: 0.9930 - val_sensitivity: 0.9436 - lr: 5.0000e-07\n",
            "Epoch 88/100\n",
            "402/402 [==============================] - 8s 20ms/step - loss: 0.0496 - accuracy: 0.9841 - f1: 0.9844 - specificity: 0.9980 - sensitivity: 0.9831 - val_loss: 0.2257 - val_accuracy: 0.9465 - val_f1: 0.9483 - val_specificity: 0.9932 - val_sensitivity: 0.9449 - lr: 5.0000e-07\n",
            "Epoch 89/100\n",
            "402/402 [==============================] - 6s 16ms/step - loss: 0.0559 - accuracy: 0.9830 - f1: 0.9828 - specificity: 0.9978 - sensitivity: 0.9813 - val_loss: 0.2262 - val_accuracy: 0.9440 - val_f1: 0.9461 - val_specificity: 0.9930 - val_sensitivity: 0.9418 - lr: 5.0000e-07\n",
            "Epoch 90/100\n",
            "402/402 [==============================] - 8s 19ms/step - loss: 0.0450 - accuracy: 0.9863 - f1: 0.9861 - specificity: 0.9982 - sensitivity: 0.9846 - val_loss: 0.2251 - val_accuracy: 0.9459 - val_f1: 0.9474 - val_specificity: 0.9930 - val_sensitivity: 0.9442 - lr: 5.0000e-07\n",
            "Epoch 91/100\n",
            "402/402 [==============================] - 6s 16ms/step - loss: 0.0494 - accuracy: 0.9851 - f1: 0.9853 - specificity: 0.9981 - sensitivity: 0.9840 - val_loss: 0.2248 - val_accuracy: 0.9446 - val_f1: 0.9467 - val_specificity: 0.9931 - val_sensitivity: 0.9424 - lr: 5.0000e-07\n",
            "Epoch 92/100\n",
            "402/402 [==============================] - 8s 19ms/step - loss: 0.0601 - accuracy: 0.9809 - f1: 0.9806 - specificity: 0.9975 - sensitivity: 0.9789 - val_loss: 0.2256 - val_accuracy: 0.9452 - val_f1: 0.9479 - val_specificity: 0.9933 - val_sensitivity: 0.9436 - lr: 5.0000e-07\n",
            "Epoch 93/100\n",
            "402/402 [==============================] - 7s 18ms/step - loss: 0.0528 - accuracy: 0.9830 - f1: 0.9825 - specificity: 0.9977 - sensitivity: 0.9812 - val_loss: 0.2233 - val_accuracy: 0.9452 - val_f1: 0.9476 - val_specificity: 0.9932 - val_sensitivity: 0.9436 - lr: 5.0000e-07\n",
            "Epoch 94/100\n",
            "402/402 [==============================] - 7s 17ms/step - loss: 0.0516 - accuracy: 0.9846 - f1: 0.9844 - specificity: 0.9980 - sensitivity: 0.9828 - val_loss: 0.2242 - val_accuracy: 0.9465 - val_f1: 0.9476 - val_specificity: 0.9932 - val_sensitivity: 0.9436 - lr: 5.0000e-07\n",
            "Epoch 95/100\n",
            "402/402 [==============================] - 8s 19ms/step - loss: 0.0459 - accuracy: 0.9862 - f1: 0.9857 - specificity: 0.9982 - sensitivity: 0.9845 - val_loss: 0.2242 - val_accuracy: 0.9465 - val_f1: 0.9479 - val_specificity: 0.9933 - val_sensitivity: 0.9436 - lr: 5.0000e-07\n",
            "Epoch 96/100\n",
            "402/402 [==============================] - 7s 18ms/step - loss: 0.0480 - accuracy: 0.9847 - f1: 0.9848 - specificity: 0.9981 - sensitivity: 0.9834 - val_loss: 0.2283 - val_accuracy: 0.9440 - val_f1: 0.9467 - val_specificity: 0.9931 - val_sensitivity: 0.9424 - lr: 5.0000e-07\n",
            "Epoch 97/100\n",
            "402/402 [==============================] - 7s 18ms/step - loss: 0.0499 - accuracy: 0.9854 - f1: 0.9855 - specificity: 0.9982 - sensitivity: 0.9840 - val_loss: 0.2256 - val_accuracy: 0.9452 - val_f1: 0.9476 - val_specificity: 0.9932 - val_sensitivity: 0.9436 - lr: 5.0000e-07\n",
            "Epoch 98/100\n",
            "402/402 [==============================] - 9s 23ms/step - loss: 0.0470 - accuracy: 0.9855 - f1: 0.9859 - specificity: 0.9981 - sensitivity: 0.9849 - val_loss: 0.2232 - val_accuracy: 0.9446 - val_f1: 0.9482 - val_specificity: 0.9933 - val_sensitivity: 0.9442 - lr: 5.0000e-07\n",
            "Epoch 99/100\n",
            "402/402 [==============================] - 7s 18ms/step - loss: 0.0482 - accuracy: 0.9860 - f1: 0.9858 - specificity: 0.9982 - sensitivity: 0.9846 - val_loss: 0.2243 - val_accuracy: 0.9452 - val_f1: 0.9476 - val_specificity: 0.9932 - val_sensitivity: 0.9436 - lr: 5.0000e-07\n",
            "Epoch 100/100\n",
            "402/402 [==============================] - 8s 19ms/step - loss: 0.0520 - accuracy: 0.9840 - f1: 0.9835 - specificity: 0.9979 - sensitivity: 0.9817 - val_loss: 0.2273 - val_accuracy: 0.9452 - val_f1: 0.9461 - val_specificity: 0.9930 - val_sensitivity: 0.9418 - lr: 5.0000e-07\n"
          ]
        }
      ],
      "source": [
        "\n",
        "\n",
        "\n",
        "\n",
        "\n",
        "\n",
        "\n",
        "import time\n",
        "start = time.time()\n",
        "if not data_augmentation:\n",
        "    print('Not using data augmentation.')\n",
        "    history = model.fit(x_train, y_train,\n",
        "              batch_size=batch_size,\n",
        "              epochs=epochs,\n",
        "              validation_data=(x_test, y_test),\n",
        "              shuffle=True,callbacks=[lr_reducer, csv_logger])\n",
        "else:\n",
        "    print('Using real-time data augmentation.')\n",
        "    # This will do preprocessing and realtime data augmentation:\n",
        "    datagen = ImageDataGenerator(\n",
        "        shear_range=0.2,\n",
        "        zoom_range=0.2,\n",
        "        horizontal_flip=True,\n",
        "        vertical_flip=True)  # randomly flip images\n",
        "    datagen.fit(x_train)\n",
        "    history = model.fit_generator(datagen.flow(x_train, y_train,\n",
        "                                            batch_size=batch_size),\n",
        "                               epochs=epochs,\n",
        "                               validation_data=(x_test, y_test),callbacks=[lr_reducer,csv_logger])"
      ]
    },
    {
      "cell_type": "markdown",
      "metadata": {
        "id": "AcNrHJTYNZVl"
      },
      "source": [
        "# Results"
      ]
    },
    {
      "cell_type": "code",
      "execution_count": null,
      "metadata": {
        "colab": {
          "base_uri": "https://localhost:8080/"
        },
        "id": "knp-ULKtHxS3",
        "outputId": "944b5ed1-2e35-4fce-f742-d20a4c47c0c1"
      },
      "outputs": [
        {
          "output_type": "stream",
          "name": "stdout",
          "text": [
            "------------Training time is seconds:%s 809.8287029266357\n",
            "51/51 [==============================] - 0s 6ms/step - loss: 0.2273 - accuracy: 0.9452 - f1: 0.9461 - specificity: 0.9930 - sensitivity: 0.9418\n",
            "dict_keys(['loss', 'accuracy', 'f1', 'specificity', 'sensitivity', 'val_loss', 'val_accuracy', 'val_f1', 'val_specificity', 'val_sensitivity', 'lr'])\n",
            "dict_values([[1.597746729850769, 1.3071805238723755, 1.1517390012741089, 1.0681604146957397, 0.9744971394538879, 0.910480260848999, 0.8413566946983337, 0.8068128824234009, 0.7396330833435059, 0.733363687992096, 0.6886460781097412, 0.6430321931838989, 0.6174550652503967, 0.598656415939331, 0.5728561878204346, 0.5383687615394592, 0.5429883003234863, 0.5251463055610657, 0.49558815360069275, 0.3695054054260254, 0.3080799877643585, 0.2978627383708954, 0.2658901810646057, 0.2422027736902237, 0.24735231697559357, 0.2279728651046753, 0.22425413131713867, 0.2160588502883911, 0.20892301201820374, 0.20281359553337097, 0.19116896390914917, 0.19332365691661835, 0.18955661356449127, 0.17338787019252777, 0.1674070656299591, 0.1664443016052246, 0.16988427937030792, 0.1594475358724594, 0.14682501554489136, 0.15310661494731903, 0.16557815670967102, 0.14606201648712158, 0.13571001589298248, 0.13747018575668335, 0.10557472705841064, 0.09699027985334396, 0.09152001142501831, 0.09168516844511032, 0.08823978900909424, 0.09428831934928894, 0.07464950531721115, 0.078884556889534, 0.0793275311589241, 0.07690314948558807, 0.06821511685848236, 0.06916965544223785, 0.06892839074134827, 0.06251229345798492, 0.06123032048344612, 0.058899134397506714, 0.06539726257324219, 0.054787490516901016, 0.04777364060282707, 0.06240738928318024, 0.05913028493523598, 0.05635344237089157, 0.05158107727766037, 0.05175669491291046, 0.06476490199565887, 0.05305378884077072, 0.051811084151268005, 0.05172260105609894, 0.051071733236312866, 0.05174931511282921, 0.053967658430337906, 0.050539471209049225, 0.04854830354452133, 0.054808199405670166, 0.05081905424594879, 0.05457192659378052, 0.05319637805223465, 0.04849551245570183, 0.047445572912693024, 0.05605937913060188, 0.05169973522424698, 0.05054214224219322, 0.05187002941966057, 0.04959840700030327, 0.055923931300640106, 0.04499894380569458, 0.04936603456735611, 0.06009552255272865, 0.05280013382434845, 0.051553815603256226, 0.04593624174594879, 0.047998424619436264, 0.04993501678109169, 0.04700866714119911, 0.04815415292978287, 0.051971420645713806], [0.43028321862220764, 0.5322129130363464, 0.5885465145111084, 0.6229380369186401, 0.6556177735328674, 0.6870526075363159, 0.7093059420585632, 0.7214441299438477, 0.7444755434989929, 0.7497665882110596, 0.7681294679641724, 0.7812013626098633, 0.7868036031723022, 0.7924058437347412, 0.8012760877609253, 0.8129473924636841, 0.8140367269515991, 0.821195125579834, 0.8322439789772034, 0.8725489974021912, 0.8946467638015747, 0.8969810009002686, 0.9142546057701111, 0.918767511844635, 0.9183006286621094, 0.9245253801345825, 0.9229691624641418, 0.9295051097869873, 0.9274821281433105, 0.9335511922836304, 0.9354186058044434, 0.9351073503494263, 0.9346405267715454, 0.9397758841514587, 0.9405540227890015, 0.9427326321601868, 0.9422658085823059, 0.9470899701118469, 0.9519140720367432, 0.9447556734085083, 0.9436663389205933, 0.9498910903930664, 0.9533146619796753, 0.9556488990783691, 0.9651415944099426, 0.9685652256011963, 0.970588207244873, 0.9710550904273987, 0.9726112484931946, 0.9702770113945007, 0.9749455451965332, 0.9738562107086182, 0.9763460755348206, 0.9747899174690247, 0.9771241545677185, 0.9766573309898376, 0.9768129587173462, 0.979925274848938, 0.9825708270072937, 0.981014609336853, 0.9785247445106506, 0.9822595715522766, 0.9856831431388855, 0.9803921580314636, 0.9800809025764465, 0.9816371202468872, 0.9830376505851746, 0.9841269850730896, 0.9814814925193787, 0.9824151992797852, 0.9827263951301575, 0.982882022857666, 0.9841269850730896, 0.9844382405281067, 0.9813258647918701, 0.984749436378479, 0.9853719472885132, 0.9841269850730896, 0.9830376505851746, 0.982882022857666, 0.981792688369751, 0.9861500263214111, 0.984749436378479, 0.9803921580314636, 0.9849050641059875, 0.9852163195610046, 0.9819483160972595, 0.9841269850730896, 0.9830376505851746, 0.9863056540489197, 0.9850606918334961, 0.9808589816093445, 0.9830376505851746, 0.9845938086509705, 0.9861500263214111, 0.984749436378479, 0.9853719472885132, 0.985527515411377, 0.9859943985939026, 0.983971357345581], [0.3181620240211487, 0.46508702635765076, 0.5456912517547607, 0.5919599533081055, 0.6385504007339478, 0.6674124598503113, 0.6957175135612488, 0.7098708152770996, 0.7310107946395874, 0.7411377429962158, 0.7613467574119568, 0.7746075391769409, 0.7823760509490967, 0.7910089492797852, 0.7983884215354919, 0.8115631341934204, 0.811448335647583, 0.8207640647888184, 0.8317713737487793, 0.8718492388725281, 0.8966389894485474, 0.8974539637565613, 0.9116402864456177, 0.9196563959121704, 0.9198393821716309, 0.9250097274780273, 0.9233722686767578, 0.9290283918380737, 0.9270114302635193, 0.9341896176338196, 0.9367265105247498, 0.9347981810569763, 0.9355847835540771, 0.9404340386390686, 0.94110107421875, 0.9435338973999023, 0.9422545433044434, 0.9473497867584229, 0.9509471654891968, 0.9480910897254944, 0.9449838399887085, 0.9508580565452576, 0.9540591835975647, 0.9552210569381714, 0.9648733735084534, 0.9688878655433655, 0.9703801274299622, 0.9702607989311218, 0.9713794589042664, 0.9702718257904053, 0.9742364883422852, 0.9743297696113586, 0.97660893201828, 0.9754403829574585, 0.9775607585906982, 0.9768993258476257, 0.977367639541626, 0.9798023104667664, 0.9817596077919006, 0.9811568260192871, 0.9785846471786499, 0.9822410941123962, 0.985828697681427, 0.980700671672821, 0.9803302884101868, 0.9821257591247559, 0.9832341074943542, 0.9840515851974487, 0.981092631816864, 0.9819498658180237, 0.9830785989761353, 0.9824614524841309, 0.9840811491012573, 0.9843875765800476, 0.9815940856933594, 0.9839659929275513, 0.9851900339126587, 0.9839208126068115, 0.9833036065101624, 0.9833590984344482, 0.9819501638412476, 0.9854570627212524, 0.9848636388778687, 0.9809210300445557, 0.984703540802002, 0.9853605031967163, 0.9823564291000366, 0.9844321012496948, 0.9827978014945984, 0.9860823750495911, 0.9852502346038818, 0.9806312322616577, 0.9825018644332886, 0.9844140410423279, 0.9857065677642822, 0.984840989112854, 0.9855411052703857, 0.9858921766281128, 0.9858359694480896, 0.9835093021392822], [0.9825420379638672, 0.9798544645309448, 0.9770297408103943, 0.9762119054794312, 0.9761416912078857, 0.9765547513961792, 0.9764657616615295, 0.9761905074119568, 0.9767054319381714, 0.9784199595451355, 0.9789090752601624, 0.9788641333580017, 0.9794104099273682, 0.9800548553466797, 0.9798193573951721, 0.980708122253418, 0.9816047549247742, 0.9817607998847961, 0.9823864102363586, 0.9865266680717468, 0.988724946975708, 0.9883697628974915, 0.9900931715965271, 0.9908884763717651, 0.9909369349479675, 0.9909682273864746, 0.9909017086029053, 0.9917544722557068, 0.9914567470550537, 0.9922698140144348, 0.9925362467765808, 0.9920035004615784, 0.9923228025436401, 0.99262535572052, 0.9929007291793823, 0.9934645891189575, 0.9928914308547974, 0.99346923828125, 0.9941130876541138, 0.9935579895973206, 0.9932467341423035, 0.9940463304519653, 0.9940910339355469, 0.9943575859069824, 0.9956901669502258, 0.9962674975395203, 0.9964011907577515, 0.9964455366134644, 0.9964321255683899, 0.9963518381118774, 0.9966898560523987, 0.9967341423034668, 0.9970673322677612, 0.9968899488449097, 0.9971115589141846, 0.9971116185188293, 0.9971430897712708, 0.9974673390388489, 0.9977560639381409, 0.9975783228874207, 0.9972676038742065, 0.9977561235427856, 0.9982091784477234, 0.9975560307502747, 0.997422993183136, 0.9977114796638489, 0.9978224635124207, 0.9980229735374451, 0.9975339770317078, 0.9977114796638489, 0.9977782964706421, 0.9978670477867126, 0.9979561567306519, 0.9980449676513672, 0.9975559115409851, 0.9980005025863647, 0.9980226755142212, 0.9979115128517151, 0.9980005025863647, 0.9978892803192139, 0.9976670145988464, 0.9981648325920105, 0.9980227947235107, 0.9975562691688538, 0.9980670213699341, 0.9982225298881531, 0.9977117776870728, 0.9980002641677856, 0.9977785348892212, 0.9982448816299438, 0.9980893135070801, 0.9975116848945618, 0.9977115392684937, 0.9980313181877136, 0.998155951499939, 0.9980535507202148, 0.9981781840324402, 0.9981335401535034, 0.9981781244277954, 0.9979337453842163], [0.22245025634765625, 0.35258084535598755, 0.44269275665283203, 0.4960198998451233, 0.5525497794151306, 0.5879974961280823, 0.624626874923706, 0.6455845832824707, 0.6734452843666077, 0.6816231608390808, 0.7084888219833374, 0.7279540300369263, 0.737126886844635, 0.7483519911766052, 0.7606032490730286, 0.7768034934997559, 0.7731965184211731, 0.7863184213638306, 0.8013681173324585, 0.8479166626930237, 0.8780161738395691, 0.8811256289482117, 0.8966728448867798, 0.9066852927207947, 0.906623125076294, 0.9154850840568542, 0.9129974842071533, 0.9182525277137756, 0.9162624478340149, 0.9247512221336365, 0.9275497794151306, 0.9272388219833374, 0.9267412424087524, 0.93392413854599, 0.933426558971405, 0.9343594312667847, 0.9356343150138855, 0.9415422677993774, 0.9441853165626526, 0.9421641826629639, 0.9384328126907349, 0.9444962739944458, 0.9500932693481445, 0.950715184211731, 0.9605099558830261, 0.9645522236824036, 0.9664179086685181, 0.9661069512367249, 0.9681903123855591, 0.9666045308113098, 0.9720149040222168, 0.9718594551086426, 0.9740360975265503, 0.9729477763175964, 0.9755908250808716, 0.9742537140846252, 0.9750310778617859, 0.9776119589805603, 0.97947758436203, 0.97947758436203, 0.9765236377716064, 0.9804104566574097, 0.9843594431877136, 0.9787002205848694, 0.9788557291030884, 0.9804104566574097, 0.981809675693512, 0.9821206331253052, 0.979633092880249, 0.9800994992256165, 0.981809675693512, 0.9800994992256165, 0.9826492667198181, 0.9825870394706726, 0.9804104566574097, 0.9821206331253052, 0.9842972755432129, 0.9825870394706726, 0.9808768630027771, 0.9816542267799377, 0.9804104566574097, 0.9838930368423462, 0.9836753606796265, 0.9791666865348816, 0.9830535054206848, 0.9833644032478333, 0.9808768630027771, 0.9830535054206848, 0.9813432693481445, 0.9846082329750061, 0.9839863181114197, 0.9788557291030884, 0.9811878204345703, 0.9828047156333923, 0.9844527244567871, 0.9834266304969788, 0.9839863181114197, 0.9849191308021545, 0.9846082329750061, 0.9816542267799377], [2.063988208770752, 1.2914408445358276, 1.1588224172592163, 1.3972312211990356, 1.739568829536438, 0.9581516981124878, 0.9177326560020447, 0.8408893346786499, 0.8592053055763245, 0.8073369860649109, 0.8567529320716858, 0.7638276219367981, 0.8670288920402527, 0.6169273853302002, 0.7238932251930237, 0.6423688530921936, 0.7305629253387451, 0.804338276386261, 0.6208598613739014, 0.5673849582672119, 0.40571415424346924, 0.5111293792724609, 0.3729388117790222, 0.39725586771965027, 0.39006438851356506, 0.3664633333683014, 0.40834376215934753, 0.3832700848579407, 0.38408470153808594, 0.3163914084434509, 0.3203781247138977, 0.3286677896976471, 0.4990098774433136, 0.3264196217060089, 0.3063298165798187, 0.37268465757369995, 0.30506014823913574, 0.36061516404151917, 0.26951196789741516, 0.39504048228263855, 0.33191579580307007, 0.32189127802848816, 0.29208245873451233, 0.30099400877952576, 0.28112444281578064, 0.2590603232383728, 0.283355176448822, 0.2585710883140564, 0.2771894633769989, 0.2535891532897949, 0.23270069062709808, 0.252835750579834, 0.24097953736782074, 0.2430083453655243, 0.2793947160243988, 0.2579690217971802, 0.22946450114250183, 0.2377825379371643, 0.22700579464435577, 0.22626511752605438, 0.22073350846767426, 0.23028437793254852, 0.2213023155927658, 0.23473237454891205, 0.2272561639547348, 0.22551575303077698, 0.22454741597175598, 0.21403363347053528, 0.2235383540391922, 0.22558225691318512, 0.23015159368515015, 0.22985687851905823, 0.22897188365459442, 0.22638137638568878, 0.22384975850582123, 0.22574883699417114, 0.22569428384304047, 0.2254745215177536, 0.22812588512897491, 0.22553236782550812, 0.22491304576396942, 0.22667904198169708, 0.22713825106620789, 0.22380870580673218, 0.22482439875602722, 0.2266765534877777, 0.22256316244602203, 0.22574067115783691, 0.22617240250110626, 0.2250579297542572, 0.2247549593448639, 0.22557710111141205, 0.2233167588710785, 0.22423113882541656, 0.22424259781837463, 0.22827285528182983, 0.2255624234676361, 0.2231971174478531, 0.22433996200561523, 0.2273009568452835], [0.3142501413822174, 0.5413814783096313, 0.5911636352539062, 0.527069091796875, 0.46670815348625183, 0.6677038073539734, 0.6888612508773804, 0.7013067603111267, 0.7143746018409729, 0.7280647158622742, 0.7044181823730469, 0.7517112493515015, 0.7193528413772583, 0.7946484088897705, 0.757934033870697, 0.7853142619132996, 0.7616677284240723, 0.7324206829071045, 0.7921593189239502, 0.8276291489601135, 0.873677670955658, 0.84131920337677, 0.8774113059043884, 0.8786558508872986, 0.8811450004577637, 0.8898568749427795, 0.8767890334129333, 0.8848786354064941, 0.8755444884300232, 0.9010578989982605, 0.8979464769363403, 0.9110143184661865, 0.8438083529472351, 0.8967019319534302, 0.9141256809234619, 0.8948351144790649, 0.9029247164726257, 0.8917236924171448, 0.9110143184661865, 0.8792781829833984, 0.8979464769363403, 0.9029247164726257, 0.9178593754768372, 0.9097697734832764, 0.916614830493927, 0.926571249961853, 0.9184816479682922, 0.9284380674362183, 0.9234598875045776, 0.9290603399276733, 0.9427504539489746, 0.9352831244468689, 0.9396390914916992, 0.9340385794639587, 0.9253267049789429, 0.9284380674362183, 0.9390168190002441, 0.935905396938324, 0.9427504539489746, 0.9427504539489746, 0.9427504539489746, 0.9439949989318848, 0.9458618760108948, 0.9421281814575195, 0.9446172714233398, 0.9421281814575195, 0.9446172714233398, 0.9495955109596252, 0.9458618760108948, 0.9458618760108948, 0.9439949989318848, 0.9446172714233398, 0.9452396035194397, 0.9458618760108948, 0.9471064209938049, 0.94772869348526, 0.9458618760108948, 0.9471064209938049, 0.9446172714233398, 0.9452396035194397, 0.9458618760108948, 0.9464841485023499, 0.9458618760108948, 0.9458618760108948, 0.9439949989318848, 0.9464841485023499, 0.9458618760108948, 0.9464841485023499, 0.9439949989318848, 0.9458618760108948, 0.9446172714233398, 0.9452396035194397, 0.9452396035194397, 0.9464841485023499, 0.9464841485023499, 0.9439949989318848, 0.9452396035194397, 0.9446172714233398, 0.9452396035194397, 0.9452396035194397], [0.3039940297603607, 0.5060827732086182, 0.5789648294448853, 0.5212748646736145, 0.4706983268260956, 0.6569246053695679, 0.6912277936935425, 0.702241837978363, 0.7103905081748962, 0.7220418453216553, 0.7055087089538574, 0.7431721687316895, 0.7222031354904175, 0.7903193235397339, 0.7605782151222229, 0.7851034998893738, 0.7593445777893066, 0.7295042872428894, 0.8006953001022339, 0.8279843926429749, 0.878061830997467, 0.840607225894928, 0.8838647603988647, 0.8798739314079285, 0.8830699324607849, 0.892835795879364, 0.8798821568489075, 0.8868212103843689, 0.8745293617248535, 0.9043105840682983, 0.9024098515510559, 0.909087061882019, 0.8474622368812561, 0.8962957262992859, 0.9155428409576416, 0.895455539226532, 0.9046891927719116, 0.8958396911621094, 0.9145639538764954, 0.8847430944442749, 0.9007655382156372, 0.9055911302566528, 0.9187151789665222, 0.9120805263519287, 0.9209466576576233, 0.9286969304084778, 0.9218165278434753, 0.9296407699584961, 0.9244717359542847, 0.9310363531112671, 0.9439571499824524, 0.9348840713500977, 0.9391512870788574, 0.9371940493583679, 0.9284837245941162, 0.9301263689994812, 0.9391122460365295, 0.938343346118927, 0.9432858228683472, 0.9449869990348816, 0.9444626569747925, 0.9427034854888916, 0.9467093348503113, 0.9420109987258911, 0.9444127678871155, 0.9460470676422119, 0.9466500878334045, 0.9491901993751526, 0.9470793008804321, 0.9476823210716248, 0.9469537734985352, 0.9451115727424622, 0.948226273059845, 0.9479646682739258, 0.9476631879806519, 0.9486357569694519, 0.947945237159729, 0.9477506875991821, 0.9470115303993225, 0.9479258060455322, 0.9477020502090454, 0.9482953548431396, 0.94858717918396, 0.9470309615135193, 0.946690559387207, 0.947692334651947, 0.947060763835907, 0.9482953548431396, 0.9460874795913696, 0.9474200010299683, 0.9466807842254639, 0.9479063153266907, 0.9476339221000671, 0.9476248621940613, 0.9479160904884338, 0.9467002749443054, 0.9476339817047119, 0.9482278823852539, 0.9476151466369629, 0.9460965991020203], [0.9481167793273926, 0.9775910377502441, 0.9771533012390137, 0.963672935962677, 0.9589462280273438, 0.9722514152526855, 0.9716386795043945, 0.9773284196853638, 0.9764530658721924, 0.9782913327217102, 0.9740020632743835, 0.9748651385307312, 0.9707632064819336, 0.980167031288147, 0.9742648005485535, 0.9775034785270691, 0.9752275943756104, 0.970538318157196, 0.9786414504051208, 0.9797793626785278, 0.9863445162773132, 0.9813549518585205, 0.9859945178031921, 0.985819399356842, 0.9857316613197327, 0.9870446920394897, 0.9855566620826721, 0.9859943985939026, 0.9844561815261841, 0.988620400428772, 0.988095223903656, 0.9886202812194824, 0.9809174537658691, 0.98757004737854, 0.9894083142280579, 0.9870448112487793, 0.9883580207824707, 0.9872198104858398, 0.9888830184936523, 0.9852941036224365, 0.9876574873924255, 0.9883577823638916, 0.9895832538604736, 0.9884452819824219, 0.9901086688041687, 0.9912466406822205, 0.9900211095809937, 0.9908964037895203, 0.9904586672782898, 0.9912464022636414, 0.9926469326019287, 0.9921217560768127, 0.9922969341278076, 0.9922093152999878, 0.9905462861061096, 0.9905463457107544, 0.9918593764305115, 0.9919468760490417, 0.9925594925880432, 0.9931721687316895, 0.9929971694946289, 0.9925596117973328, 0.993084728717804, 0.9924719333648682, 0.9929971694946289, 0.993084728717804, 0.993172287940979, 0.9933473467826843, 0.9929972887039185, 0.9930847883224487, 0.9932597875595093, 0.9929096698760986, 0.9932597875595093, 0.993172287940979, 0.9930847883224487, 0.993172287940979, 0.9932597279548645, 0.9929971694946289, 0.9930847883224487, 0.9932597875595093, 0.993084728717804, 0.993172287940979, 0.9932597875595093, 0.9930847883224487, 0.993084728717804, 0.9930847883224487, 0.9929972887039185, 0.993172287940979, 0.9929971694946289, 0.9929972887039185, 0.9930847883224487, 0.9932597875595093, 0.993172287940979, 0.993172287940979, 0.9932597875595093, 0.9930847883224487, 0.993172287940979, 0.9932597875595093, 0.993172287940979, 0.9929971694946289], [0.24579831957817078, 0.39452028274536133, 0.47671568393707275, 0.44353988766670227, 0.3981967568397522, 0.5854341983795166, 0.6338410377502441, 0.6286764740943909, 0.6430322527885437, 0.6531862616539001, 0.6464460492134094, 0.6966036558151245, 0.6816351413726807, 0.7453606724739075, 0.7254902124404907, 0.748774528503418, 0.7190126180648804, 0.6935399174690247, 0.7683823704719543, 0.8069853186607361, 0.8578431606292725, 0.8198529481887817, 0.8700980544090271, 0.8633578419685364, 0.8700980544090271, 0.8799019455909729, 0.8651960492134094, 0.875, 0.8617822527885437, 0.8915441036224365, 0.8909313678741455, 0.9001225233078003, 0.8339460492134094, 0.8829656839370728, 0.906862735748291, 0.8841911554336548, 0.8933823704719543, 0.8841911554336548, 0.908088207244873, 0.875, 0.8909313678741455, 0.8952205777168274, 0.9117646813392639, 0.90625, 0.9129902124404907, 0.9203431606292725, 0.9148284196853638, 0.9240196347236633, 0.9172794222831726, 0.9246323704719543, 0.9399510025978088, 0.9264705777168274, 0.9332107901573181, 0.9301470518112183, 0.9240196347236633, 0.9270833134651184, 0.935661792755127, 0.9338235259056091, 0.939338207244873, 0.938725471496582, 0.938725471496582, 0.938112735748291, 0.9424019455909729, 0.9375, 0.938725471496582, 0.9411764740943909, 0.9417892098426819, 0.9454656839370728, 0.9436274766921997, 0.9442402124404907, 0.9417892098426819, 0.9405637383460999, 0.9442402124404907, 0.9442402124404907, 0.9442402124404907, 0.9454656839370728, 0.9436274766921997, 0.9448529481887817, 0.9430146813392639, 0.9436274766921997, 0.9442402124404907, 0.9448529481887817, 0.9448529481887817, 0.9430146813392639, 0.9424019455909729, 0.9442402124404907, 0.9436274766921997, 0.9448529481887817, 0.9417892098426819, 0.9442402124404907, 0.9424019455909729, 0.9436274766921997, 0.9436274766921997, 0.9436274766921997, 0.9436274766921997, 0.9424019455909729, 0.9436274766921997, 0.9442402124404907, 0.9436274766921997, 0.9417892098426819], [0.001, 0.001, 0.001, 0.001, 0.001, 0.001, 0.001, 0.001, 0.001, 0.001, 0.001, 0.001, 0.001, 0.001, 0.001, 0.001, 0.001, 0.001, 0.001, 0.0003162278, 0.0003162278, 0.0003162278, 0.0003162278, 0.0003162278, 0.0003162278, 0.0003162278, 0.0003162278, 0.0003162278, 0.0003162278, 0.0003162278, 0.0003162278, 0.0003162278, 0.0003162278, 0.0003162278, 0.0003162278, 0.0003162278, 0.0003162278, 0.0003162278, 0.0003162278, 0.0003162278, 0.0003162278, 0.0003162278, 0.0003162278, 0.0003162278, 0.000100000005, 0.000100000005, 0.000100000005, 0.000100000005, 0.000100000005, 0.000100000005, 0.000100000005, 0.000100000005, 0.000100000005, 0.000100000005, 0.000100000005, 0.000100000005, 3.1622778e-05, 3.1622778e-05, 3.1622778e-05, 3.1622778e-05, 3.1622778e-05, 3.1622778e-05, 3.1622778e-05, 3.1622778e-05, 3.1622778e-05, 3.1622778e-05, 1.0000001e-05, 1.0000001e-05, 1.0000001e-05, 1.0000001e-05, 1.0000001e-05, 1.0000001e-05, 1.0000001e-05, 3.1622778e-06, 3.1622778e-06, 3.1622778e-06, 3.1622778e-06, 3.1622778e-06, 1.0000001e-06, 1.0000001e-06, 1.0000001e-06, 1.0000001e-06, 1.0000001e-06, 5e-07, 5e-07, 5e-07, 5e-07, 5e-07, 5e-07, 5e-07, 5e-07, 5e-07, 5e-07, 5e-07, 5e-07, 5e-07, 5e-07, 5e-07, 5e-07, 5e-07]])\n",
            "[0.2273009568452835, 0.9452396035194397, 0.9460965991020203, 0.9929971694946289, 0.9417892098426819]\n",
            "Test loss: 0.2273009568452835\n",
            "Test accuracy: 0.9452396035194397\n",
            "Test f1: 0.9460965991020203\n",
            "Test sensitivity: 0.9929971694946289\n",
            "Test specificity: 0.9417892098426819\n",
            "Max Test accuracy 0.9495955109596252\n"
          ]
        }
      ],
      "source": [
        "\n",
        "print('------------Training time is seconds:%s',time.time()-start)\n",
        "scores = model.evaluate(x_test, y_test, verbose=1)\n",
        "\n",
        "#history keys and values\n",
        "print(history.history.keys())\n",
        "print(history.history.values())\n",
        "\n",
        "#Metrics for testing\n",
        "print(scores)\n",
        "print('Test loss:', scores[0])\n",
        "print('Test accuracy:', scores[1])\n",
        "print('Test f1:',scores[2])\n",
        "print('Test sensitivity:',scores[3])\n",
        "print('Test specificity:',scores[4])\n",
        "print(\"Max Test accuracy\", max(history.history['val_accuracy']))"
      ]
    },
    {
      "cell_type": "code",
      "execution_count": null,
      "metadata": {
        "colab": {
          "base_uri": "https://localhost:8080/",
          "height": 472
        },
        "id": "o8do8qKLOPWk",
        "outputId": "4833889d-970b-40cf-80f0-5aaa323eee69"
      },
      "outputs": [
        {
          "output_type": "display_data",
          "data": {
            "text/plain": [
              "<Figure size 640x480 with 1 Axes>"
            ],
            "image/png": "[encoded data removed]"
          },
          "metadata": {}
        }
      ],
      "source": [
        "import matplotlib.pyplot as plt\n",
        "# summarize history for accuracy\n",
        "\n",
        "plt.plot(history.history['accuracy'])\n",
        "plt.plot(history.history['val_accuracy'])\n",
        "plt.title('model Accuracy')\n",
        "plt.ylabel('accuracy')\n",
        "plt.xlabel('epoch')\n",
        "plt.legend(['train', 'test'], loc='upper left')\n",
        "plt.savefig(METRICS_PATH+MODEL_NAME+\"_acc.png\")\n",
        "plt.show()\n"
      ]
    },
    {
      "cell_type": "code",
      "execution_count": null,
      "metadata": {
        "colab": {
          "base_uri": "https://localhost:8080/",
          "height": 472
        },
        "id": "5DDu3Xc8OPT1",
        "outputId": "ee24c7f4-0fdb-495c-ce45-6d1563ea395c"
      },
      "outputs": [
        {
          "output_type": "display_data",
          "data": {
            "text/plain": [
              "<Figure size 640x480 with 1 Axes>"
            ],
            "image/png": "[encoded data removed]"
          },
          "metadata": {}
        }
      ],
      "source": [
        "# summarize history for loss\n",
        "\n",
        "plt.plot(history.history['loss'])\n",
        "plt.plot(history.history['val_loss'])\n",
        "plt.title('model loss')\n",
        "plt.ylabel('loss')\n",
        "plt.xlabel('epoch')\n",
        "plt.legend(['train', 'test'], loc='upper left')\n",
        "plt.savefig(METRICS_PATH+MODEL_NAME+\"_loss.png\")\n",
        "plt.show()\n"
      ]
    },
    {
      "cell_type": "markdown",
      "metadata": {
        "id": "C565rynnwAqw"
      },
      "source": [
        "# without aug"
      ]
    },
    {
      "cell_type": "code",
      "execution_count": null,
      "metadata": {
        "id": "T7i5XIz4wPuQ"
      },
      "outputs": [],
      "source": [
        "MODEL_NAME=\"GoogleNet_waug\""
      ]
    },
    {
      "cell_type": "code",
      "execution_count": null,
      "metadata": {
        "colab": {
          "base_uri": "https://localhost:8080/"
        },
        "id": "Svev90FGwkbv",
        "outputId": "3c68bc56-397a-41b3-d844-d6adc28d5a2c"
      },
      "outputs": [
        {
          "output_type": "stream",
          "name": "stdout",
          "text": [
            "Model: \"model_1\"\n",
            "__________________________________________________________________________________________________\n",
            " Layer (type)                Output Shape                 Param #   Connected to                  \n",
            "==================================================================================================\n",
            " input_2 (InputLayer)        [(None, 32, 32, 3)]          0         []                            \n",
            "                                                                                                  \n",
            " conv2d_18 (Conv2D)          (None, 32, 32, 64)           1792      ['input_2[0][0]']             \n",
            "                                                                                                  \n",
            " max_pooling2d_6 (MaxPoolin  (None, 16, 16, 64)           0         ['conv2d_18[0][0]']           \n",
            " g2D)                                                                                             \n",
            "                                                                                                  \n",
            " batch_normalization_3 (Bat  (None, 16, 16, 64)           256       ['max_pooling2d_6[0][0]']     \n",
            " chNormalization)                                                                                 \n",
            "                                                                                                  \n",
            " conv2d_19 (Conv2D)          (None, 16, 16, 16)           1040      ['batch_normalization_3[0][0]'\n",
            "                                                                    ]                             \n",
            "                                                                                                  \n",
            " conv2d_21 (Conv2D)          (None, 16, 16, 16)           1040      ['batch_normalization_3[0][0]'\n",
            "                                                                    ]                             \n",
            "                                                                                                  \n",
            " max_pooling2d_7 (MaxPoolin  (None, 16, 16, 64)           0         ['batch_normalization_3[0][0]'\n",
            " g2D)                                                               ]                             \n",
            "                                                                                                  \n",
            " conv2d_20 (Conv2D)          (None, 16, 16, 16)           2320      ['conv2d_19[0][0]']           \n",
            "                                                                                                  \n",
            " conv2d_22 (Conv2D)          (None, 16, 16, 16)           6416      ['conv2d_21[0][0]']           \n",
            "                                                                                                  \n",
            " conv2d_23 (Conv2D)          (None, 16, 16, 16)           1040      ['max_pooling2d_7[0][0]']     \n",
            "                                                                                                  \n",
            " concatenate_3 (Concatenate  (None, 48, 16, 16)           0         ['conv2d_20[0][0]',           \n",
            " )                                                                   'conv2d_22[0][0]',           \n",
            "                                                                     'conv2d_23[0][0]']           \n",
            "                                                                                                  \n",
            " conv2d_24 (Conv2D)          (None, 48, 16, 128)          18560     ['concatenate_3[0][0]']       \n",
            "                                                                                                  \n",
            " max_pooling2d_8 (MaxPoolin  (None, 24, 8, 128)           0         ['conv2d_24[0][0]']           \n",
            " g2D)                                                                                             \n",
            "                                                                                                  \n",
            " batch_normalization_4 (Bat  (None, 24, 8, 128)           512       ['max_pooling2d_8[0][0]']     \n",
            " chNormalization)                                                                                 \n",
            "                                                                                                  \n",
            " conv2d_25 (Conv2D)          (None, 24, 8, 16)            2064      ['batch_normalization_4[0][0]'\n",
            "                                                                    ]                             \n",
            "                                                                                                  \n",
            " conv2d_27 (Conv2D)          (None, 24, 8, 16)            2064      ['batch_normalization_4[0][0]'\n",
            "                                                                    ]                             \n",
            "                                                                                                  \n",
            " max_pooling2d_9 (MaxPoolin  (None, 24, 8, 128)           0         ['batch_normalization_4[0][0]'\n",
            " g2D)                                                               ]                             \n",
            "                                                                                                  \n",
            " conv2d_26 (Conv2D)          (None, 24, 8, 16)            2320      ['conv2d_25[0][0]']           \n",
            "                                                                                                  \n",
            " conv2d_28 (Conv2D)          (None, 24, 8, 16)            6416      ['conv2d_27[0][0]']           \n",
            "                                                                                                  \n",
            " conv2d_29 (Conv2D)          (None, 24, 8, 16)            2064      ['max_pooling2d_9[0][0]']     \n",
            "                                                                                                  \n",
            " concatenate_4 (Concatenate  (None, 72, 8, 16)            0         ['conv2d_26[0][0]',           \n",
            " )                                                                   'conv2d_28[0][0]',           \n",
            "                                                                     'conv2d_29[0][0]']           \n",
            "                                                                                                  \n",
            " conv2d_30 (Conv2D)          (None, 72, 8, 256)           37120     ['concatenate_4[0][0]']       \n",
            "                                                                                                  \n",
            " max_pooling2d_10 (MaxPooli  (None, 36, 4, 256)           0         ['conv2d_30[0][0]']           \n",
            " ng2D)                                                                                            \n",
            "                                                                                                  \n",
            " batch_normalization_5 (Bat  (None, 36, 4, 256)           1024      ['max_pooling2d_10[0][0]']    \n",
            " chNormalization)                                                                                 \n",
            "                                                                                                  \n",
            " conv2d_31 (Conv2D)          (None, 36, 4, 16)            4112      ['batch_normalization_5[0][0]'\n",
            "                                                                    ]                             \n",
            "                                                                                                  \n",
            " conv2d_33 (Conv2D)          (None, 36, 4, 16)            4112      ['batch_normalization_5[0][0]'\n",
            "                                                                    ]                             \n",
            "                                                                                                  \n",
            " max_pooling2d_11 (MaxPooli  (None, 36, 4, 256)           0         ['batch_normalization_5[0][0]'\n",
            " ng2D)                                                              ]                             \n",
            "                                                                                                  \n",
            " conv2d_32 (Conv2D)          (None, 36, 4, 16)            2320      ['conv2d_31[0][0]']           \n",
            "                                                                                                  \n",
            " conv2d_34 (Conv2D)          (None, 36, 4, 16)            6416      ['conv2d_33[0][0]']           \n",
            "                                                                                                  \n",
            " conv2d_35 (Conv2D)          (None, 36, 4, 16)            4112      ['max_pooling2d_11[0][0]']    \n",
            "                                                                                                  \n",
            " concatenate_5 (Concatenate  (None, 108, 4, 16)           0         ['conv2d_32[0][0]',           \n",
            " )                                                                   'conv2d_34[0][0]',           \n",
            "                                                                     'conv2d_35[0][0]']           \n",
            "                                                                                                  \n",
            " flatten_1 (Flatten)         (None, 6912)                 0         ['concatenate_5[0][0]']       \n",
            "                                                                                                  \n",
            " dense_1 (Dense)             (None, 8)                    55304     ['flatten_1[0][0]']           \n",
            "                                                                                                  \n",
            "==================================================================================================\n",
            "Total params: 162424 (634.47 KB)\n",
            "Trainable params: 161528 (630.97 KB)\n",
            "Non-trainable params: 896 (3.50 KB)\n",
            "__________________________________________________________________________________________________\n"
          ]
        }
      ],
      "source": [
        "img_height, img_width, channel = x_train.shape[1],x_train.shape[2],x_train.shape[3]\n",
        "input = Input(shape=(img_height, img_width, channel,))\n",
        "\n",
        "\n",
        "Conv2D_1 = Conv2D(64, (3,3), activation='relu', padding='same')(input)\n",
        "MaxPool2D_1 = MaxPooling2D(pool_size=(2, 2), strides=(2,2))(Conv2D_1)\n",
        "BatchNorm_1 = BatchNormalization()(MaxPool2D_1)\n",
        "\n",
        "\n",
        "tower_1 = Conv2D(16, (1, 1), padding='same', activation='relu')(BatchNorm_1)\n",
        "tower_1 = Conv2D(16, (3, 3), padding='same', activation='relu')(tower_1)\n",
        "\n",
        "tower_2 = Conv2D(16, (1, 1), padding='same', activation='relu')(BatchNorm_1)\n",
        "tower_2 = Conv2D(16, (5, 5), padding='same', activation='relu')(tower_2)\n",
        "\n",
        "tower_3 = MaxPooling2D((3, 3), strides=(1, 1), padding='same')(BatchNorm_1)\n",
        "tower_3 = Conv2D(16, (1, 1), padding='same', activation='relu')(tower_3)\n",
        "\n",
        "output = keras.layers.concatenate([tower_1, tower_2, tower_3], axis=1)\n",
        "\n",
        "Conv2D_2 = Conv2D(128, (3,3), activation='relu', padding='same')(output)\n",
        "MaxPool2D_2 = MaxPooling2D(pool_size=(2, 2), strides=(2,2))(Conv2D_2)\n",
        "BatchNorm_2 = BatchNormalization()(MaxPool2D_2)\n",
        "\n",
        "\n",
        "tower_1 = Conv2D(16, (1, 1), padding='same', activation='relu')(BatchNorm_2)\n",
        "tower_1 = Conv2D(16, (3, 3), padding='same', activation='relu')(tower_1)\n",
        "\n",
        "tower_2 = Conv2D(16, (1, 1), padding='same', activation='relu')(BatchNorm_2)\n",
        "tower_2 = Conv2D(16, (5, 5), padding='same', activation='relu')(tower_2)\n",
        "\n",
        "tower_3 = MaxPooling2D((3, 3), strides=(1, 1), padding='same')(BatchNorm_2)\n",
        "tower_3 = Conv2D(16, (1, 1), padding='same', activation='relu')(tower_3)\n",
        "\n",
        "output = keras.layers.concatenate([tower_1, tower_2, tower_3], axis=1)\n",
        "\n",
        "Conv2D_3 = Conv2D(256, (3,3), activation='relu', padding='same')(output)\n",
        "MaxPool2D_3 = MaxPooling2D(pool_size=(2, 2), strides=(2,2))(Conv2D_3)\n",
        "BatchNorm_3 = BatchNormalization()(MaxPool2D_3)\n",
        "\n",
        "tower_1 = Conv2D(16, (1, 1), padding='same', activation='relu')(BatchNorm_3)\n",
        "tower_1 = Conv2D(16, (3, 3), padding='same', activation='relu')(tower_1)\n",
        "\n",
        "tower_2 = Conv2D(16, (1, 1), padding='same', activation='relu')(BatchNorm_3)\n",
        "tower_2 = Conv2D(16, (5, 5), padding='same', activation='relu')(tower_2)\n",
        "\n",
        "tower_3 = MaxPooling2D((3, 3), strides=(1, 1), padding='same')(BatchNorm_3)\n",
        "tower_3 = Conv2D(16, (1, 1), padding='same', activation='relu')(tower_3)\n",
        "\n",
        "output = keras.layers.concatenate([tower_1, tower_2, tower_3], axis=1)\n",
        "\n",
        "Output = Flatten()(output)\n",
        "Output = Dense(num_classes, activation='softmax')(Output)\n",
        "model = Model(inputs=[input], outputs=[Output])\n",
        "model.summary()"
      ]
    },
    {
      "cell_type": "code",
      "execution_count": null,
      "metadata": {
        "id": "ZFjNl0x9wkXg"
      },
      "outputs": [],
      "source": [
        "model.compile(loss='categorical_crossentropy',\n",
        "              optimizer=Adam(),\n",
        "              metrics=['accuracy',f1,specificity,sensitivity])"
      ]
    },
    {
      "cell_type": "code",
      "execution_count": null,
      "metadata": {
        "colab": {
          "base_uri": "https://localhost:8080/"
        },
        "id": "GMen2VbMXeqY",
        "outputId": "1b70a27f-46a4-48d9-a127-5847ad1e2657"
      },
      "outputs": [
        {
          "output_type": "stream",
          "name": "stdout",
          "text": [
            "/content/drive/MyDrive/metro/GoogleNet_waug.csv\n"
          ]
        }
      ],
      "source": [
        "print((METRICS_PATH+MODEL_NAME+\".csv\"))"
      ]
    },
    {
      "cell_type": "code",
      "execution_count": null,
      "metadata": {
        "id": "A8J2yts1wc9h"
      },
      "outputs": [],
      "source": [
        "lr_reducer = ReduceLROnPlateau(factor=np.sqrt(0.1), cooldown=0, patience=5, min_lr=0.5e-6)\n",
        "csv_logger = CSVLogger(METRICS_PATH+MODEL_NAME+\".csv\")\n",
        "model_chekpoint = ModelCheckpoint(\"GoogleNet_waug.hdf5\",monitor = 'val_loss',verbose = 1,save_best_only=True)\n"
      ]
    },
    {
      "cell_type": "code",
      "execution_count": null,
      "metadata": {
        "id": "tMVtt6FcZYTs"
      },
      "outputs": [],
      "source": [
        "batch_size = 16\n",
        "data_augmentation = False\n",
        "epochs = 100"
      ]
    },
    {
      "cell_type": "code",
      "execution_count": null,
      "metadata": {
        "colab": {
          "base_uri": "https://localhost:8080/"
        },
        "id": "YOXhJ8K2v_0h",
        "outputId": "1b8654a6-38b1-4076-ebcf-42251629eea1"
      },
      "outputs": [
        {
          "output_type": "stream",
          "name": "stdout",
          "text": [
            "Not using data augmentation.\n",
            "Epoch 1/100\n",
            "402/402 [==============================] - 11s 13ms/step - loss: 1.5332 - accuracy: 0.4659 - f1: 0.3618 - specificity: 0.9832 - sensitivity: 0.2609 - val_loss: 2.7248 - val_accuracy: 0.2097 - val_f1: 0.2033 - val_specificity: 0.9289 - val_sensitivity: 0.1718 - lr: 0.0010\n",
            "Epoch 2/100\n",
            "402/402 [==============================] - 5s 13ms/step - loss: 1.1454 - accuracy: 0.5917 - f1: 0.5512 - specificity: 0.9776 - sensitivity: 0.4462 - val_loss: 1.1197 - val_accuracy: 0.6005 - val_f1: 0.5763 - val_specificity: 0.9797 - val_sensitivity: 0.4673 - lr: 0.0010\n",
            "Epoch 3/100\n",
            "402/402 [==============================] - 6s 14ms/step - loss: 0.9362 - accuracy: 0.6741 - f1: 0.6508 - specificity: 0.9772 - sensitivity: 0.5652 - val_loss: 1.0622 - val_accuracy: 0.6304 - val_f1: 0.6112 - val_specificity: 0.9759 - val_sensitivity: 0.5202 - lr: 0.0010\n",
            "Epoch 4/100\n",
            "402/402 [==============================] - 4s 11ms/step - loss: 0.8136 - accuracy: 0.7202 - f1: 0.7080 - specificity: 0.9778 - sensitivity: 0.6374 - val_loss: 0.9846 - val_accuracy: 0.6640 - val_f1: 0.6579 - val_specificity: 0.9701 - val_sensitivity: 0.5980 - lr: 0.0010\n",
            "Epoch 5/100\n",
            "402/402 [==============================] - 5s 11ms/step - loss: 0.7135 - accuracy: 0.7572 - f1: 0.7476 - specificity: 0.9789 - sensitivity: 0.6887 - val_loss: 0.8765 - val_accuracy: 0.7094 - val_f1: 0.7032 - val_specificity: 0.9745 - val_sensitivity: 0.6421 - lr: 0.0010\n",
            "Epoch 6/100\n",
            "402/402 [==============================] - 5s 13ms/step - loss: 0.5809 - accuracy: 0.7974 - f1: 0.7935 - specificity: 0.9806 - sensitivity: 0.7496 - val_loss: 1.0163 - val_accuracy: 0.7007 - val_f1: 0.6961 - val_specificity: 0.9672 - val_sensitivity: 0.6589 - lr: 0.0010\n",
            "Epoch 7/100\n",
            "402/402 [==============================] - 5s 11ms/step - loss: 0.5070 - accuracy: 0.8266 - f1: 0.8252 - specificity: 0.9827 - sensitivity: 0.7902 - val_loss: 1.0150 - val_accuracy: 0.6777 - val_f1: 0.6777 - val_specificity: 0.9664 - val_sensitivity: 0.6360 - lr: 0.0010\n",
            "Epoch 8/100\n",
            "402/402 [==============================] - 5s 13ms/step - loss: 0.4228 - accuracy: 0.8536 - f1: 0.8529 - specificity: 0.9843 - sensitivity: 0.8266 - val_loss: 0.8674 - val_accuracy: 0.7418 - val_f1: 0.7452 - val_specificity: 0.9712 - val_sensitivity: 0.7158 - lr: 0.0010\n",
            "Epoch 9/100\n",
            "402/402 [==============================] - 4s 11ms/step - loss: 0.3758 - accuracy: 0.8685 - f1: 0.8682 - specificity: 0.9853 - sensitivity: 0.8471 - val_loss: 1.0092 - val_accuracy: 0.7057 - val_f1: 0.7102 - val_specificity: 0.9661 - val_sensitivity: 0.6830 - lr: 0.0010\n",
            "Epoch 10/100\n",
            "402/402 [==============================] - 5s 11ms/step - loss: 0.3289 - accuracy: 0.8900 - f1: 0.8859 - specificity: 0.9869 - sensitivity: 0.8689 - val_loss: 0.8809 - val_accuracy: 0.7629 - val_f1: 0.7683 - val_specificity: 0.9725 - val_sensitivity: 0.7450 - lr: 0.0010\n",
            "Epoch 11/100\n",
            "402/402 [==============================] - 5s 13ms/step - loss: 0.2748 - accuracy: 0.9043 - f1: 0.9043 - specificity: 0.9887 - sensitivity: 0.8919 - val_loss: 0.8251 - val_accuracy: 0.7660 - val_f1: 0.7703 - val_specificity: 0.9734 - val_sensitivity: 0.7450 - lr: 0.0010\n",
            "Epoch 12/100\n",
            "402/402 [==============================] - 5s 12ms/step - loss: 0.2591 - accuracy: 0.9113 - f1: 0.9111 - specificity: 0.9895 - sensitivity: 0.8990 - val_loss: 0.8718 - val_accuracy: 0.7735 - val_f1: 0.7778 - val_specificity: 0.9722 - val_sensitivity: 0.7624 - lr: 0.0010\n",
            "Epoch 13/100\n",
            "402/402 [==============================] - 5s 13ms/step - loss: 0.2394 - accuracy: 0.9166 - f1: 0.9174 - specificity: 0.9899 - sensitivity: 0.9077 - val_loss: 1.0548 - val_accuracy: 0.7411 - val_f1: 0.7403 - val_specificity: 0.9672 - val_sensitivity: 0.7240 - lr: 0.0010\n",
            "Epoch 14/100\n",
            "402/402 [==============================] - 5s 12ms/step - loss: 0.2210 - accuracy: 0.9237 - f1: 0.9231 - specificity: 0.9907 - sensitivity: 0.9138 - val_loss: 0.9757 - val_accuracy: 0.7685 - val_f1: 0.7726 - val_specificity: 0.9700 - val_sensitivity: 0.7624 - lr: 0.0010\n",
            "Epoch 15/100\n",
            "402/402 [==============================] - 5s 12ms/step - loss: 0.1948 - accuracy: 0.9340 - f1: 0.9336 - specificity: 0.9915 - sensitivity: 0.9278 - val_loss: 0.9786 - val_accuracy: 0.7747 - val_f1: 0.7749 - val_specificity: 0.9713 - val_sensitivity: 0.7603 - lr: 0.0010\n",
            "Epoch 16/100\n",
            "402/402 [==============================] - 5s 13ms/step - loss: 0.1578 - accuracy: 0.9458 - f1: 0.9451 - specificity: 0.9931 - sensitivity: 0.9400 - val_loss: 1.1182 - val_accuracy: 0.7635 - val_f1: 0.7678 - val_specificity: 0.9697 - val_sensitivity: 0.7562 - lr: 0.0010\n",
            "Epoch 17/100\n",
            "402/402 [==============================] - 5s 11ms/step - loss: 0.0591 - accuracy: 0.9790 - f1: 0.9797 - specificity: 0.9974 - sensitivity: 0.9776 - val_loss: 0.8917 - val_accuracy: 0.8220 - val_f1: 0.8227 - val_specificity: 0.9760 - val_sensitivity: 0.8167 - lr: 3.1623e-04\n",
            "Epoch 18/100\n",
            "402/402 [==============================] - 5s 11ms/step - loss: 0.0190 - accuracy: 0.9953 - f1: 0.9951 - specificity: 0.9994 - sensitivity: 0.9944 - val_loss: 0.9139 - val_accuracy: 0.8382 - val_f1: 0.8408 - val_specificity: 0.9785 - val_sensitivity: 0.8348 - lr: 3.1623e-04\n",
            "Epoch 19/100\n",
            "402/402 [==============================] - 5s 13ms/step - loss: 0.0166 - accuracy: 0.9956 - f1: 0.9954 - specificity: 0.9994 - sensitivity: 0.9947 - val_loss: 0.9616 - val_accuracy: 0.8307 - val_f1: 0.8299 - val_specificity: 0.9772 - val_sensitivity: 0.8230 - lr: 3.1623e-04\n",
            "Epoch 20/100\n",
            "402/402 [==============================] - 4s 11ms/step - loss: 0.0102 - accuracy: 0.9972 - f1: 0.9972 - specificity: 0.9996 - sensitivity: 0.9969 - val_loss: 0.9784 - val_accuracy: 0.8451 - val_f1: 0.8481 - val_specificity: 0.9798 - val_sensitivity: 0.8410 - lr: 3.1623e-04\n",
            "Epoch 21/100\n",
            "402/402 [==============================] - 5s 12ms/step - loss: 0.0166 - accuracy: 0.9955 - f1: 0.9954 - specificity: 0.9994 - sensitivity: 0.9952 - val_loss: 0.9803 - val_accuracy: 0.8419 - val_f1: 0.8446 - val_specificity: 0.9787 - val_sensitivity: 0.8403 - lr: 3.1623e-04\n",
            "Epoch 22/100\n",
            "402/402 [==============================] - 6s 16ms/step - loss: 0.0110 - accuracy: 0.9958 - f1: 0.9959 - specificity: 0.9995 - sensitivity: 0.9956 - val_loss: 0.9687 - val_accuracy: 0.8444 - val_f1: 0.8459 - val_specificity: 0.9794 - val_sensitivity: 0.8391 - lr: 1.0000e-04\n",
            "Epoch 23/100\n",
            "402/402 [==============================] - 4s 11ms/step - loss: 0.0058 - accuracy: 0.9986 - f1: 0.9987 - specificity: 0.9998 - sensitivity: 0.9986 - val_loss: 0.9979 - val_accuracy: 0.8363 - val_f1: 0.8392 - val_specificity: 0.9781 - val_sensitivity: 0.8342 - lr: 1.0000e-04\n",
            "Epoch 24/100\n",
            "402/402 [==============================] - 5s 14ms/step - loss: 0.0055 - accuracy: 0.9984 - f1: 0.9985 - specificity: 0.9998 - sensitivity: 0.9984 - val_loss: 0.9925 - val_accuracy: 0.8451 - val_f1: 0.8477 - val_specificity: 0.9797 - val_sensitivity: 0.8410 - lr: 1.0000e-04\n",
            "Epoch 25/100\n",
            "402/402 [==============================] - 4s 11ms/step - loss: 0.0045 - accuracy: 0.9989 - f1: 0.9990 - specificity: 0.9999 - sensitivity: 0.9989 - val_loss: 1.0027 - val_accuracy: 0.8451 - val_f1: 0.8464 - val_specificity: 0.9792 - val_sensitivity: 0.8410 - lr: 1.0000e-04\n",
            "Epoch 26/100\n",
            "402/402 [==============================] - 4s 11ms/step - loss: 0.0058 - accuracy: 0.9986 - f1: 0.9985 - specificity: 0.9998 - sensitivity: 0.9984 - val_loss: 1.0110 - val_accuracy: 0.8401 - val_f1: 0.8429 - val_specificity: 0.9783 - val_sensitivity: 0.8391 - lr: 1.0000e-04\n",
            "Epoch 27/100\n",
            "402/402 [==============================] - 6s 14ms/step - loss: 0.0046 - accuracy: 0.9989 - f1: 0.9988 - specificity: 0.9998 - sensitivity: 0.9988 - val_loss: 1.0167 - val_accuracy: 0.8401 - val_f1: 0.8447 - val_specificity: 0.9789 - val_sensitivity: 0.8397 - lr: 3.1623e-05\n",
            "Epoch 28/100\n",
            "402/402 [==============================] - 4s 11ms/step - loss: 0.0043 - accuracy: 0.9991 - f1: 0.9991 - specificity: 0.9999 - sensitivity: 0.9991 - val_loss: 0.9918 - val_accuracy: 0.8457 - val_f1: 0.8488 - val_specificity: 0.9795 - val_sensitivity: 0.8434 - lr: 3.1623e-05\n",
            "Epoch 29/100\n",
            "402/402 [==============================] - 5s 13ms/step - loss: 0.0022 - accuracy: 0.9995 - f1: 0.9996 - specificity: 1.0000 - sensitivity: 0.9995 - val_loss: 0.9933 - val_accuracy: 0.8494 - val_f1: 0.8526 - val_specificity: 0.9800 - val_sensitivity: 0.8472 - lr: 3.1623e-05\n",
            "Epoch 30/100\n",
            "402/402 [==============================] - 5s 11ms/step - loss: 0.0028 - accuracy: 0.9991 - f1: 0.9991 - specificity: 0.9999 - sensitivity: 0.9991 - val_loss: 1.0013 - val_accuracy: 0.8475 - val_f1: 0.8498 - val_specificity: 0.9795 - val_sensitivity: 0.8453 - lr: 3.1623e-05\n",
            "Epoch 31/100\n",
            "402/402 [==============================] - 4s 11ms/step - loss: 0.0017 - accuracy: 1.0000 - f1: 1.0000 - specificity: 1.0000 - sensitivity: 1.0000 - val_loss: 1.0048 - val_accuracy: 0.8482 - val_f1: 0.8512 - val_specificity: 0.9799 - val_sensitivity: 0.8453 - lr: 3.1623e-05\n",
            "Epoch 32/100\n",
            "402/402 [==============================] - 6s 14ms/step - loss: 0.0024 - accuracy: 0.9994 - f1: 0.9994 - specificity: 0.9999 - sensitivity: 0.9994 - val_loss: 1.0121 - val_accuracy: 0.8500 - val_f1: 0.8521 - val_specificity: 0.9798 - val_sensitivity: 0.8478 - lr: 1.0000e-05\n",
            "Epoch 33/100\n",
            "402/402 [==============================] - 5s 12ms/step - loss: 0.0018 - accuracy: 0.9994 - f1: 0.9994 - specificity: 0.9999 - sensitivity: 0.9994 - val_loss: 1.0038 - val_accuracy: 0.8494 - val_f1: 0.8522 - val_specificity: 0.9798 - val_sensitivity: 0.8478 - lr: 1.0000e-05\n",
            "Epoch 34/100\n",
            "402/402 [==============================] - 5s 11ms/step - loss: 0.0022 - accuracy: 0.9995 - f1: 0.9995 - specificity: 0.9999 - sensitivity: 0.9994 - val_loss: 1.0054 - val_accuracy: 0.8494 - val_f1: 0.8523 - val_specificity: 0.9796 - val_sensitivity: 0.8490 - lr: 1.0000e-05\n",
            "Epoch 35/100\n",
            "402/402 [==============================] - 5s 13ms/step - loss: 0.0019 - accuracy: 0.9995 - f1: 0.9995 - specificity: 0.9999 - sensitivity: 0.9995 - val_loss: 1.0030 - val_accuracy: 0.8500 - val_f1: 0.8517 - val_specificity: 0.9798 - val_sensitivity: 0.8465 - lr: 1.0000e-05\n",
            "Epoch 36/100\n",
            "402/402 [==============================] - 5s 13ms/step - loss: 0.0015 - accuracy: 0.9998 - f1: 0.9998 - specificity: 1.0000 - sensitivity: 0.9998 - val_loss: 1.0056 - val_accuracy: 0.8519 - val_f1: 0.8528 - val_specificity: 0.9798 - val_sensitivity: 0.8490 - lr: 1.0000e-05\n",
            "Epoch 37/100\n",
            "402/402 [==============================] - 5s 13ms/step - loss: 0.0030 - accuracy: 0.9995 - f1: 0.9995 - specificity: 0.9999 - sensitivity: 0.9995 - val_loss: 1.0063 - val_accuracy: 0.8538 - val_f1: 0.8537 - val_specificity: 0.9799 - val_sensitivity: 0.8496 - lr: 3.1623e-06\n",
            "Epoch 38/100\n",
            "402/402 [==============================] - 5s 11ms/step - loss: 0.0015 - accuracy: 0.9998 - f1: 0.9998 - specificity: 1.0000 - sensitivity: 0.9998 - val_loss: 1.0098 - val_accuracy: 0.8494 - val_f1: 0.8518 - val_specificity: 0.9797 - val_sensitivity: 0.8478 - lr: 3.1623e-06\n",
            "Epoch 39/100\n",
            "402/402 [==============================] - 5s 12ms/step - loss: 0.0022 - accuracy: 0.9995 - f1: 0.9995 - specificity: 0.9999 - sensitivity: 0.9995 - val_loss: 1.0119 - val_accuracy: 0.8500 - val_f1: 0.8523 - val_specificity: 0.9796 - val_sensitivity: 0.8490 - lr: 3.1623e-06\n",
            "Epoch 40/100\n",
            "402/402 [==============================] - 6s 14ms/step - loss: 0.0017 - accuracy: 0.9997 - f1: 0.9997 - specificity: 1.0000 - sensitivity: 0.9997 - val_loss: 1.0076 - val_accuracy: 0.8507 - val_f1: 0.8531 - val_specificity: 0.9798 - val_sensitivity: 0.8490 - lr: 3.1623e-06\n",
            "Epoch 41/100\n",
            "402/402 [==============================] - 5s 13ms/step - loss: 0.0017 - accuracy: 0.9998 - f1: 0.9998 - specificity: 1.0000 - sensitivity: 0.9998 - val_loss: 1.0070 - val_accuracy: 0.8488 - val_f1: 0.8517 - val_specificity: 0.9798 - val_sensitivity: 0.8472 - lr: 3.1623e-06\n",
            "Epoch 42/100\n",
            "402/402 [==============================] - 5s 13ms/step - loss: 0.0032 - accuracy: 0.9995 - f1: 0.9995 - specificity: 0.9999 - sensitivity: 0.9995 - val_loss: 1.0110 - val_accuracy: 0.8507 - val_f1: 0.8531 - val_specificity: 0.9798 - val_sensitivity: 0.8490 - lr: 1.0000e-06\n",
            "Epoch 43/100\n",
            "402/402 [==============================] - 5s 12ms/step - loss: 0.0016 - accuracy: 0.9995 - f1: 0.9995 - specificity: 0.9999 - sensitivity: 0.9995 - val_loss: 1.0106 - val_accuracy: 0.8494 - val_f1: 0.8524 - val_specificity: 0.9798 - val_sensitivity: 0.8478 - lr: 1.0000e-06\n",
            "Epoch 44/100\n",
            "402/402 [==============================] - 4s 11ms/step - loss: 0.0022 - accuracy: 0.9995 - f1: 0.9995 - specificity: 0.9999 - sensitivity: 0.9995 - val_loss: 1.0142 - val_accuracy: 0.8507 - val_f1: 0.8525 - val_specificity: 0.9798 - val_sensitivity: 0.8484 - lr: 1.0000e-06\n",
            "Epoch 45/100\n",
            "402/402 [==============================] - 5s 13ms/step - loss: 0.0014 - accuracy: 0.9998 - f1: 0.9999 - specificity: 1.0000 - sensitivity: 0.9998 - val_loss: 1.0092 - val_accuracy: 0.8507 - val_f1: 0.8531 - val_specificity: 0.9798 - val_sensitivity: 0.8490 - lr: 1.0000e-06\n",
            "Epoch 46/100\n",
            "402/402 [==============================] - 5s 12ms/step - loss: 0.0017 - accuracy: 0.9998 - f1: 0.9998 - specificity: 1.0000 - sensitivity: 0.9998 - val_loss: 1.0086 - val_accuracy: 0.8507 - val_f1: 0.8519 - val_specificity: 0.9796 - val_sensitivity: 0.8484 - lr: 1.0000e-06\n",
            "Epoch 47/100\n",
            "402/402 [==============================] - 5s 12ms/step - loss: 0.0027 - accuracy: 0.9992 - f1: 0.9992 - specificity: 0.9999 - sensitivity: 0.9992 - val_loss: 1.0091 - val_accuracy: 0.8507 - val_f1: 0.8522 - val_specificity: 0.9797 - val_sensitivity: 0.8484 - lr: 5.0000e-07\n",
            "Epoch 48/100\n",
            "402/402 [==============================] - 5s 12ms/step - loss: 0.0021 - accuracy: 0.9995 - f1: 0.9995 - specificity: 0.9999 - sensitivity: 0.9994 - val_loss: 1.0142 - val_accuracy: 0.8500 - val_f1: 0.8531 - val_specificity: 0.9799 - val_sensitivity: 0.8484 - lr: 5.0000e-07\n",
            "Epoch 49/100\n",
            "402/402 [==============================] - 6s 14ms/step - loss: 0.0018 - accuracy: 0.9997 - f1: 0.9997 - specificity: 1.0000 - sensitivity: 0.9997 - val_loss: 1.0080 - val_accuracy: 0.8507 - val_f1: 0.8529 - val_specificity: 0.9798 - val_sensitivity: 0.8490 - lr: 5.0000e-07\n",
            "Epoch 50/100\n",
            "402/402 [==============================] - 6s 16ms/step - loss: 0.0021 - accuracy: 0.9994 - f1: 0.9995 - specificity: 0.9999 - sensitivity: 0.9994 - val_loss: 1.0085 - val_accuracy: 0.8507 - val_f1: 0.8533 - val_specificity: 0.9799 - val_sensitivity: 0.8490 - lr: 5.0000e-07\n",
            "Epoch 51/100\n",
            "402/402 [==============================] - 5s 12ms/step - loss: 0.0018 - accuracy: 0.9997 - f1: 0.9997 - specificity: 1.0000 - sensitivity: 0.9997 - val_loss: 1.0090 - val_accuracy: 0.8500 - val_f1: 0.8522 - val_specificity: 0.9797 - val_sensitivity: 0.8484 - lr: 5.0000e-07\n",
            "Epoch 52/100\n",
            "402/402 [==============================] - 5s 12ms/step - loss: 0.0025 - accuracy: 0.9995 - f1: 0.9995 - specificity: 0.9999 - sensitivity: 0.9995 - val_loss: 1.0126 - val_accuracy: 0.8494 - val_f1: 0.8520 - val_specificity: 0.9796 - val_sensitivity: 0.8484 - lr: 5.0000e-07\n",
            "Epoch 53/100\n",
            "402/402 [==============================] - 5s 13ms/step - loss: 0.0020 - accuracy: 0.9995 - f1: 0.9995 - specificity: 0.9999 - sensitivity: 0.9995 - val_loss: 1.0110 - val_accuracy: 0.8507 - val_f1: 0.8527 - val_specificity: 0.9798 - val_sensitivity: 0.8484 - lr: 5.0000e-07\n",
            "Epoch 54/100\n",
            "402/402 [==============================] - 5s 12ms/step - loss: 0.0018 - accuracy: 0.9997 - f1: 0.9997 - specificity: 1.0000 - sensitivity: 0.9997 - val_loss: 1.0130 - val_accuracy: 0.8500 - val_f1: 0.8516 - val_specificity: 0.9796 - val_sensitivity: 0.8478 - lr: 5.0000e-07\n",
            "Epoch 55/100\n",
            "402/402 [==============================] - 6s 14ms/step - loss: 0.0012 - accuracy: 0.9998 - f1: 0.9999 - specificity: 1.0000 - sensitivity: 0.9998 - val_loss: 1.0147 - val_accuracy: 0.8513 - val_f1: 0.8525 - val_specificity: 0.9798 - val_sensitivity: 0.8484 - lr: 5.0000e-07\n",
            "Epoch 56/100\n",
            "402/402 [==============================] - 5s 12ms/step - loss: 0.0016 - accuracy: 1.0000 - f1: 1.0000 - specificity: 1.0000 - sensitivity: 1.0000 - val_loss: 1.0141 - val_accuracy: 0.8500 - val_f1: 0.8525 - val_specificity: 0.9798 - val_sensitivity: 0.8484 - lr: 5.0000e-07\n",
            "Epoch 57/100\n",
            "402/402 [==============================] - 4s 11ms/step - loss: 0.0015 - accuracy: 0.9998 - f1: 0.9998 - specificity: 1.0000 - sensitivity: 0.9997 - val_loss: 1.0144 - val_accuracy: 0.8507 - val_f1: 0.8519 - val_specificity: 0.9796 - val_sensitivity: 0.8484 - lr: 5.0000e-07\n",
            "Epoch 58/100\n",
            "402/402 [==============================] - 5s 13ms/step - loss: 0.0017 - accuracy: 0.9995 - f1: 0.9996 - specificity: 1.0000 - sensitivity: 0.9995 - val_loss: 1.0107 - val_accuracy: 0.8513 - val_f1: 0.8518 - val_specificity: 0.9795 - val_sensitivity: 0.8484 - lr: 5.0000e-07\n",
            "Epoch 59/100\n",
            "402/402 [==============================] - 5s 12ms/step - loss: 0.0024 - accuracy: 0.9991 - f1: 0.9991 - specificity: 0.9999 - sensitivity: 0.9991 - val_loss: 1.0152 - val_accuracy: 0.8500 - val_f1: 0.8528 - val_specificity: 0.9798 - val_sensitivity: 0.8490 - lr: 5.0000e-07\n",
            "Epoch 60/100\n",
            "402/402 [==============================] - 5s 13ms/step - loss: 0.0028 - accuracy: 0.9992 - f1: 0.9991 - specificity: 0.9999 - sensitivity: 0.9991 - val_loss: 1.0163 - val_accuracy: 0.8494 - val_f1: 0.8512 - val_specificity: 0.9796 - val_sensitivity: 0.8472 - lr: 5.0000e-07\n",
            "Epoch 61/100\n",
            "402/402 [==============================] - 5s 11ms/step - loss: 0.0014 - accuracy: 1.0000 - f1: 1.0000 - specificity: 1.0000 - sensitivity: 1.0000 - val_loss: 1.0137 - val_accuracy: 0.8500 - val_f1: 0.8525 - val_specificity: 0.9798 - val_sensitivity: 0.8484 - lr: 5.0000e-07\n",
            "Epoch 62/100\n",
            "402/402 [==============================] - 4s 11ms/step - loss: 0.0020 - accuracy: 0.9995 - f1: 0.9995 - specificity: 0.9999 - sensitivity: 0.9995 - val_loss: 1.0101 - val_accuracy: 0.8500 - val_f1: 0.8524 - val_specificity: 0.9796 - val_sensitivity: 0.8490 - lr: 5.0000e-07\n",
            "Epoch 63/100\n",
            "402/402 [==============================] - 5s 13ms/step - loss: 0.0021 - accuracy: 0.9994 - f1: 0.9994 - specificity: 0.9999 - sensitivity: 0.9994 - val_loss: 1.0145 - val_accuracy: 0.8494 - val_f1: 0.8526 - val_specificity: 0.9797 - val_sensitivity: 0.8490 - lr: 5.0000e-07\n",
            "Epoch 64/100\n",
            "402/402 [==============================] - 4s 11ms/step - loss: 0.0016 - accuracy: 0.9998 - f1: 0.9998 - specificity: 1.0000 - sensitivity: 0.9998 - val_loss: 1.0126 - val_accuracy: 0.8500 - val_f1: 0.8524 - val_specificity: 0.9798 - val_sensitivity: 0.8478 - lr: 5.0000e-07\n",
            "Epoch 65/100\n",
            "402/402 [==============================] - 4s 11ms/step - loss: 0.0012 - accuracy: 1.0000 - f1: 1.0000 - specificity: 1.0000 - sensitivity: 1.0000 - val_loss: 1.0089 - val_accuracy: 0.8507 - val_f1: 0.8523 - val_specificity: 0.9796 - val_sensitivity: 0.8490 - lr: 5.0000e-07\n",
            "Epoch 66/100\n",
            "402/402 [==============================] - 6s 14ms/step - loss: 0.0016 - accuracy: 0.9997 - f1: 0.9997 - specificity: 1.0000 - sensitivity: 0.9997 - val_loss: 1.0153 - val_accuracy: 0.8513 - val_f1: 0.8534 - val_specificity: 0.9798 - val_sensitivity: 0.8496 - lr: 5.0000e-07\n",
            "Epoch 67/100\n",
            "402/402 [==============================] - 5s 12ms/step - loss: 0.0015 - accuracy: 0.9997 - f1: 0.9997 - specificity: 1.0000 - sensitivity: 0.9997 - val_loss: 1.0131 - val_accuracy: 0.8500 - val_f1: 0.8527 - val_specificity: 0.9798 - val_sensitivity: 0.8484 - lr: 5.0000e-07\n",
            "Epoch 68/100\n",
            "402/402 [==============================] - 5s 13ms/step - loss: 0.0017 - accuracy: 0.9995 - f1: 0.9995 - specificity: 0.9999 - sensitivity: 0.9995 - val_loss: 1.0118 - val_accuracy: 0.8500 - val_f1: 0.8524 - val_specificity: 0.9798 - val_sensitivity: 0.8478 - lr: 5.0000e-07\n",
            "Epoch 69/100\n",
            "402/402 [==============================] - 5s 12ms/step - loss: 0.0021 - accuracy: 0.9997 - f1: 0.9997 - specificity: 1.0000 - sensitivity: 0.9997 - val_loss: 1.0138 - val_accuracy: 0.8519 - val_f1: 0.8525 - val_specificity: 0.9797 - val_sensitivity: 0.8490 - lr: 5.0000e-07\n",
            "Epoch 70/100\n",
            "402/402 [==============================] - 4s 11ms/step - loss: 0.0018 - accuracy: 0.9997 - f1: 0.9998 - specificity: 1.0000 - sensitivity: 0.9997 - val_loss: 1.0160 - val_accuracy: 0.8507 - val_f1: 0.8531 - val_specificity: 0.9798 - val_sensitivity: 0.8490 - lr: 5.0000e-07\n",
            "Epoch 71/100\n",
            "402/402 [==============================] - 6s 14ms/step - loss: 0.0021 - accuracy: 0.9991 - f1: 0.9991 - specificity: 0.9999 - sensitivity: 0.9991 - val_loss: 1.0148 - val_accuracy: 0.8519 - val_f1: 0.8531 - val_specificity: 0.9798 - val_sensitivity: 0.8490 - lr: 5.0000e-07\n",
            "Epoch 72/100\n",
            "402/402 [==============================] - 5s 12ms/step - loss: 0.0014 - accuracy: 0.9998 - f1: 0.9998 - specificity: 1.0000 - sensitivity: 0.9998 - val_loss: 1.0128 - val_accuracy: 0.8500 - val_f1: 0.8525 - val_specificity: 0.9798 - val_sensitivity: 0.8484 - lr: 5.0000e-07\n",
            "Epoch 73/100\n",
            "402/402 [==============================] - 5s 12ms/step - loss: 0.0012 - accuracy: 0.9997 - f1: 0.9997 - specificity: 1.0000 - sensitivity: 0.9997 - val_loss: 1.0218 - val_accuracy: 0.8507 - val_f1: 0.8523 - val_specificity: 0.9796 - val_sensitivity: 0.8490 - lr: 5.0000e-07\n",
            "Epoch 74/100\n",
            "402/402 [==============================] - 5s 13ms/step - loss: 0.0013 - accuracy: 0.9998 - f1: 0.9998 - specificity: 1.0000 - sensitivity: 0.9998 - val_loss: 1.0137 - val_accuracy: 0.8507 - val_f1: 0.8533 - val_specificity: 0.9799 - val_sensitivity: 0.8490 - lr: 5.0000e-07\n",
            "Epoch 75/100\n",
            "402/402 [==============================] - 4s 11ms/step - loss: 0.0023 - accuracy: 0.9997 - f1: 0.9997 - specificity: 1.0000 - sensitivity: 0.9997 - val_loss: 1.0133 - val_accuracy: 0.8507 - val_f1: 0.8531 - val_specificity: 0.9799 - val_sensitivity: 0.8484 - lr: 5.0000e-07\n",
            "Epoch 76/100\n",
            "402/402 [==============================] - 6s 16ms/step - loss: 0.0014 - accuracy: 0.9997 - f1: 0.9997 - specificity: 1.0000 - sensitivity: 0.9997 - val_loss: 1.0110 - val_accuracy: 0.8500 - val_f1: 0.8522 - val_specificity: 0.9797 - val_sensitivity: 0.8484 - lr: 5.0000e-07\n",
            "Epoch 77/100\n",
            "402/402 [==============================] - 6s 14ms/step - loss: 0.0015 - accuracy: 0.9997 - f1: 0.9997 - specificity: 1.0000 - sensitivity: 0.9997 - val_loss: 1.0168 - val_accuracy: 0.8513 - val_f1: 0.8525 - val_specificity: 0.9798 - val_sensitivity: 0.8484 - lr: 5.0000e-07\n",
            "Epoch 78/100\n",
            "402/402 [==============================] - 5s 12ms/step - loss: 0.0018 - accuracy: 0.9997 - f1: 0.9997 - specificity: 1.0000 - sensitivity: 0.9997 - val_loss: 1.0123 - val_accuracy: 0.8513 - val_f1: 0.8527 - val_specificity: 0.9798 - val_sensitivity: 0.8484 - lr: 5.0000e-07\n",
            "Epoch 79/100\n",
            "402/402 [==============================] - 5s 13ms/step - loss: 0.0013 - accuracy: 0.9997 - f1: 0.9997 - specificity: 1.0000 - sensitivity: 0.9997 - val_loss: 1.0177 - val_accuracy: 0.8513 - val_f1: 0.8522 - val_specificity: 0.9797 - val_sensitivity: 0.8484 - lr: 5.0000e-07\n",
            "Epoch 80/100\n",
            "402/402 [==============================] - 6s 15ms/step - loss: 0.0015 - accuracy: 0.9995 - f1: 0.9997 - specificity: 1.0000 - sensitivity: 0.9995 - val_loss: 1.0125 - val_accuracy: 0.8507 - val_f1: 0.8520 - val_specificity: 0.9796 - val_sensitivity: 0.8484 - lr: 5.0000e-07\n",
            "Epoch 81/100\n",
            "402/402 [==============================] - 6s 14ms/step - loss: 0.0012 - accuracy: 1.0000 - f1: 1.0000 - specificity: 1.0000 - sensitivity: 1.0000 - val_loss: 1.0160 - val_accuracy: 0.8500 - val_f1: 0.8522 - val_specificity: 0.9797 - val_sensitivity: 0.8484 - lr: 5.0000e-07\n",
            "Epoch 82/100\n",
            "402/402 [==============================] - 5s 12ms/step - loss: 0.0013 - accuracy: 1.0000 - f1: 1.0000 - specificity: 1.0000 - sensitivity: 1.0000 - val_loss: 1.0129 - val_accuracy: 0.8507 - val_f1: 0.8524 - val_specificity: 0.9798 - val_sensitivity: 0.8484 - lr: 5.0000e-07\n",
            "Epoch 83/100\n",
            "402/402 [==============================] - 5s 12ms/step - loss: 0.0016 - accuracy: 0.9998 - f1: 0.9998 - specificity: 1.0000 - sensitivity: 0.9997 - val_loss: 1.0143 - val_accuracy: 0.8488 - val_f1: 0.8515 - val_specificity: 0.9795 - val_sensitivity: 0.8478 - lr: 5.0000e-07\n",
            "Epoch 84/100\n",
            "402/402 [==============================] - 6s 14ms/step - loss: 0.0016 - accuracy: 0.9997 - f1: 0.9997 - specificity: 1.0000 - sensitivity: 0.9997 - val_loss: 1.0167 - val_accuracy: 0.8494 - val_f1: 0.8530 - val_specificity: 0.9799 - val_sensitivity: 0.8484 - lr: 5.0000e-07\n",
            "Epoch 85/100\n",
            "402/402 [==============================] - 5s 12ms/step - loss: 0.0024 - accuracy: 0.9994 - f1: 0.9994 - specificity: 0.9999 - sensitivity: 0.9994 - val_loss: 1.0159 - val_accuracy: 0.8494 - val_f1: 0.8525 - val_specificity: 0.9798 - val_sensitivity: 0.8484 - lr: 5.0000e-07\n",
            "Epoch 86/100\n",
            "402/402 [==============================] - 5s 13ms/step - loss: 0.0017 - accuracy: 0.9998 - f1: 0.9998 - specificity: 1.0000 - sensitivity: 0.9998 - val_loss: 1.0147 - val_accuracy: 0.8507 - val_f1: 0.8516 - val_specificity: 0.9796 - val_sensitivity: 0.8478 - lr: 5.0000e-07\n",
            "Epoch 87/100\n",
            "402/402 [==============================] - 5s 12ms/step - loss: 0.0015 - accuracy: 1.0000 - f1: 1.0000 - specificity: 1.0000 - sensitivity: 1.0000 - val_loss: 1.0164 - val_accuracy: 0.8507 - val_f1: 0.8534 - val_specificity: 0.9799 - val_sensitivity: 0.8490 - lr: 5.0000e-07\n",
            "Epoch 88/100\n",
            "402/402 [==============================] - 6s 14ms/step - loss: 0.0020 - accuracy: 0.9997 - f1: 0.9997 - specificity: 1.0000 - sensitivity: 0.9997 - val_loss: 1.0133 - val_accuracy: 0.8513 - val_f1: 0.8527 - val_specificity: 0.9798 - val_sensitivity: 0.8484 - lr: 5.0000e-07\n",
            "Epoch 89/100\n",
            "402/402 [==============================] - 6s 14ms/step - loss: 0.0016 - accuracy: 0.9998 - f1: 0.9998 - specificity: 1.0000 - sensitivity: 0.9998 - val_loss: 1.0198 - val_accuracy: 0.8507 - val_f1: 0.8516 - val_specificity: 0.9796 - val_sensitivity: 0.8478 - lr: 5.0000e-07\n",
            "Epoch 90/100\n",
            "402/402 [==============================] - 5s 12ms/step - loss: 0.0012 - accuracy: 1.0000 - f1: 1.0000 - specificity: 1.0000 - sensitivity: 1.0000 - val_loss: 1.0152 - val_accuracy: 0.8500 - val_f1: 0.8527 - val_specificity: 0.9798 - val_sensitivity: 0.8484 - lr: 5.0000e-07\n",
            "Epoch 91/100\n",
            "402/402 [==============================] - 5s 13ms/step - loss: 0.0010 - accuracy: 0.9998 - f1: 0.9998 - specificity: 1.0000 - sensitivity: 0.9998 - val_loss: 1.0143 - val_accuracy: 0.8507 - val_f1: 0.8516 - val_specificity: 0.9796 - val_sensitivity: 0.8478 - lr: 5.0000e-07\n",
            "Epoch 92/100\n",
            "402/402 [==============================] - 5s 11ms/step - loss: 0.0015 - accuracy: 0.9997 - f1: 0.9997 - specificity: 1.0000 - sensitivity: 0.9997 - val_loss: 1.0124 - val_accuracy: 0.8507 - val_f1: 0.8525 - val_specificity: 0.9797 - val_sensitivity: 0.8490 - lr: 5.0000e-07\n",
            "Epoch 93/100\n",
            "402/402 [==============================] - 5s 12ms/step - loss: 0.0016 - accuracy: 0.9997 - f1: 0.9997 - specificity: 1.0000 - sensitivity: 0.9997 - val_loss: 1.0165 - val_accuracy: 0.8513 - val_f1: 0.8523 - val_specificity: 0.9798 - val_sensitivity: 0.8478 - lr: 5.0000e-07\n",
            "Epoch 94/100\n",
            "402/402 [==============================] - 5s 13ms/step - loss: 0.0017 - accuracy: 0.9998 - f1: 0.9998 - specificity: 1.0000 - sensitivity: 0.9997 - val_loss: 1.0171 - val_accuracy: 0.8513 - val_f1: 0.8518 - val_specificity: 0.9797 - val_sensitivity: 0.8478 - lr: 5.0000e-07\n",
            "Epoch 95/100\n",
            "402/402 [==============================] - 5s 12ms/step - loss: 0.0017 - accuracy: 0.9997 - f1: 0.9997 - specificity: 1.0000 - sensitivity: 0.9997 - val_loss: 1.0175 - val_accuracy: 0.8500 - val_f1: 0.8524 - val_specificity: 0.9798 - val_sensitivity: 0.8484 - lr: 5.0000e-07\n",
            "Epoch 96/100\n",
            "402/402 [==============================] - 5s 12ms/step - loss: 0.0025 - accuracy: 0.9995 - f1: 0.9995 - specificity: 0.9999 - sensitivity: 0.9995 - val_loss: 1.0162 - val_accuracy: 0.8513 - val_f1: 0.8547 - val_specificity: 0.9800 - val_sensitivity: 0.8509 - lr: 5.0000e-07\n",
            "Epoch 97/100\n",
            "402/402 [==============================] - 5s 13ms/step - loss: 0.0017 - accuracy: 0.9997 - f1: 0.9997 - specificity: 1.0000 - sensitivity: 0.9997 - val_loss: 1.0146 - val_accuracy: 0.8507 - val_f1: 0.8527 - val_specificity: 0.9798 - val_sensitivity: 0.8484 - lr: 5.0000e-07\n",
            "Epoch 98/100\n",
            "402/402 [==============================] - 4s 11ms/step - loss: 0.0030 - accuracy: 0.9992 - f1: 0.9992 - specificity: 0.9999 - sensitivity: 0.9992 - val_loss: 1.0158 - val_accuracy: 0.8500 - val_f1: 0.8531 - val_specificity: 0.9798 - val_sensitivity: 0.8490 - lr: 5.0000e-07\n",
            "Epoch 99/100\n",
            "402/402 [==============================] - 5s 13ms/step - loss: 0.0018 - accuracy: 0.9998 - f1: 0.9998 - specificity: 1.0000 - sensitivity: 0.9998 - val_loss: 1.0175 - val_accuracy: 0.8519 - val_f1: 0.8533 - val_specificity: 0.9799 - val_sensitivity: 0.8490 - lr: 5.0000e-07\n",
            "Epoch 100/100\n",
            "402/402 [==============================] - 5s 12ms/step - loss: 0.0018 - accuracy: 0.9995 - f1: 0.9996 - specificity: 1.0000 - sensitivity: 0.9995 - val_loss: 1.0152 - val_accuracy: 0.8500 - val_f1: 0.8527 - val_specificity: 0.9798 - val_sensitivity: 0.8484 - lr: 5.0000e-07\n"
          ]
        }
      ],
      "source": [
        "import time\n",
        "start = time.time()\n",
        "if not data_augmentation:\n",
        "    print('Not using data augmentation.')\n",
        "    history = model.fit(x_train, y_train,\n",
        "              batch_size=batch_size,\n",
        "              epochs=epochs,\n",
        "              validation_data=(x_test, y_test),\n",
        "              shuffle=True,callbacks=[lr_reducer, csv_logger])\n",
        "else:\n",
        "    print('Using real-time data augmentation.')\n",
        "    # This will do preprocessing and realtime data augmentation:\n",
        "    datagen = ImageDataGenerator(\n",
        "        shear_range=0.2,\n",
        "        zoom_range=0.2,\n",
        "        horizontal_flip=True,\n",
        "        vertical_flip=True)  # randomly flip images\n",
        "    datagen.fit(x_train)\n",
        "    history = model.fit_generator(datagen.flow(x_train, y_train,\n",
        "                                            batch_size=batch_size),\n",
        "                               epochs=epochs,\n",
        "                               validation_data=(x_test, y_test),callbacks=[lr_reducer,csv_logger])"
      ]
    },
    {
      "cell_type": "code",
      "execution_count": null,
      "metadata": {
        "colab": {
          "base_uri": "https://localhost:8080/"
        },
        "id": "qaN7mFtLv_yQ",
        "outputId": "1399c617-4cce-4176-fb61-914f144f86cd"
      },
      "outputs": [
        {
          "output_type": "stream",
          "name": "stdout",
          "text": [
            "------------Training time is seconds:%s 505.0967710018158\n",
            "51/51 [==============================] - 0s 6ms/step - loss: 1.0152 - accuracy: 0.8500 - f1: 0.8542 - specificity: 0.9800 - sensitivity: 0.8499\n",
            "dict_keys(['loss', 'accuracy', 'f1', 'specificity', 'sensitivity', 'val_loss', 'val_accuracy', 'val_f1', 'val_specificity', 'val_sensitivity', 'lr'])\n",
            "dict_values([[1.5331549644470215, 1.145440697669983, 0.9362305402755737, 0.8136338591575623, 0.713524341583252, 0.5809427499771118, 0.5069909691810608, 0.4227791428565979, 0.37584537267684937, 0.3289467394351959, 0.2747785747051239, 0.25908923149108887, 0.2393849492073059, 0.22101032733917236, 0.1947980374097824, 0.15777701139450073, 0.059080660343170166, 0.01897396333515644, 0.016576776280999184, 0.010210562497377396, 0.016628388315439224, 0.011034631170332432, 0.005758730694651604, 0.005504956003278494, 0.004457477945834398, 0.005756865721195936, 0.004643588326871395, 0.004309730138629675, 0.002169832354411483, 0.0028113883454352617, 0.0016647393349558115, 0.0024172791745513678, 0.0018052337691187859, 0.0021815223153680563, 0.001898576389066875, 0.0014895446365699172, 0.0030062426812946796, 0.0015317890793085098, 0.0022101537324488163, 0.0016928797122091055, 0.0017166605684906244, 0.00321579328738153, 0.001579639851115644, 0.002171724336221814, 0.0014162337174639106, 0.001692421268671751, 0.0026717032305896282, 0.0020751911215484142, 0.0017533927457407117, 0.0021427462343126535, 0.0018231590511277318, 0.002523454837501049, 0.0019570300355553627, 0.0018028498161584139, 0.0011885210406035185, 0.0015724811237305403, 0.001457738340832293, 0.001729944022372365, 0.002371527487412095, 0.0027971065137535334, 0.0013720124261453748, 0.002011016709730029, 0.002136757830157876, 0.0015648589469492435, 0.0012140506878495216, 0.001561363460496068, 0.001538459793664515, 0.0017140907002612948, 0.0020745419897139072, 0.0017539982218295336, 0.002142158802598715, 0.0013575841439887881, 0.0012123094638809562, 0.0013170646270737052, 0.0023201159201562405, 0.0013624794082716107, 0.0014769579283893108, 0.0017984752776101232, 0.0012887908378615975, 0.0015280661173164845, 0.0011562557192519307, 0.0012657190673053265, 0.0015905346954241395, 0.0016129674622789025, 0.0024148644879460335, 0.0016569779254496098, 0.0014979471452534199, 0.001957695232704282, 0.0015978331211954355, 0.0012004649033769965, 0.0010432086419314146, 0.0014722463674843311, 0.0015534950653091073, 0.0016880976036190987, 0.0017243947368115187, 0.0025131755974143744, 0.0016719012055546045, 0.003020655829459429, 0.0018295602640137076, 0.001819736324250698], [0.46591970324516296, 0.591658890247345, 0.6741363406181335, 0.7201991677284241, 0.7572362422943115, 0.7973856329917908, 0.8266417384147644, 0.853563666343689, 0.8685029745101929, 0.8899782299995422, 0.904295027256012, 0.9112978577613831, 0.9165888428688049, 0.9237473011016846, 0.934018075466156, 0.9458450078964233, 0.9789915680885315, 0.9953314661979675, 0.9956427216529846, 0.9971988797187805, 0.9954870939254761, 0.9957982897758484, 0.9985994100570679, 0.9984438419342041, 0.998910665512085, 0.9985994100570679, 0.998910665512085, 0.9990662932395935, 0.9995331168174744, 0.9990662932395935, 1.0, 0.9993775486946106, 0.9993775486946106, 0.9995331168174744, 0.9995331168174744, 0.9998443722724915, 0.9995331168174744, 0.9998443722724915, 0.9995331168174744, 0.9996887445449829, 0.9998443722724915, 0.9995331168174744, 0.9995331168174744, 0.9995331168174744, 0.9998443722724915, 0.9998443722724915, 0.999221920967102, 0.9995331168174744, 0.9996887445449829, 0.9993775486946106, 0.9996887445449829, 0.9995331168174744, 0.9995331168174744, 0.9996887445449829, 0.9998443722724915, 1.0, 0.9998443722724915, 0.9995331168174744, 0.9990662932395935, 0.999221920967102, 1.0, 0.9995331168174744, 0.9993775486946106, 0.9998443722724915, 1.0, 0.9996887445449829, 0.9996887445449829, 0.9995331168174744, 0.9996887445449829, 0.9996887445449829, 0.9990662932395935, 0.9998443722724915, 0.9996887445449829, 0.9998443722724915, 0.9996887445449829, 0.9996887445449829, 0.9996887445449829, 0.9996887445449829, 0.9996887445449829, 0.9995331168174744, 1.0, 1.0, 0.9998443722724915, 0.9996887445449829, 0.9993775486946106, 0.9998443722724915, 1.0, 0.9996887445449829, 0.9998443722724915, 1.0, 0.9998443722724915, 0.9996887445449829, 0.9996887445449829, 0.9998443722724915, 0.9996887445449829, 0.9995331168174744, 0.9996887445449829, 0.999221920967102, 0.9998443722724915, 0.9995331168174744], [0.3618488311767578, 0.5512383580207825, 0.6507587432861328, 0.7080137133598328, 0.7475738525390625, 0.7934959530830383, 0.8252114653587341, 0.8529186248779297, 0.8682143688201904, 0.8858864307403564, 0.9043393731117249, 0.9111076593399048, 0.9173705577850342, 0.9231367111206055, 0.9335892200469971, 0.9451498985290527, 0.9796732664108276, 0.9951499104499817, 0.9953910112380981, 0.9971914887428284, 0.9954010248184204, 0.9959426522254944, 0.9987462162971497, 0.9985204935073853, 0.9989868998527527, 0.9985204935073853, 0.9988314509391785, 0.9991424083709717, 0.9996088147163391, 0.9990671873092651, 1.0, 0.9993780851364136, 0.9993780851364136, 0.9994533658027649, 0.9995335936546326, 0.9998445510864258, 0.9995335936546326, 0.9998445510864258, 0.9995335936546326, 0.9996890425682068, 0.9998445510864258, 0.9995335936546326, 0.9995335936546326, 0.9995335936546326, 0.9999197721481323, 0.9998445510864258, 0.9992226362228394, 0.9994533658027649, 0.9996890425682068, 0.9994533658027649, 0.9996890425682068, 0.9995335936546326, 0.9995335936546326, 0.9996890425682068, 0.9999197721481323, 1.0, 0.9998395442962646, 0.9996088147163391, 0.9990671873092651, 0.9991424083709717, 1.0, 0.9995335936546326, 0.9993780851364136, 0.9998445510864258, 1.0, 0.9996890425682068, 0.9996890425682068, 0.9995335936546326, 0.9996890425682068, 0.9997642636299133, 0.9990671873092651, 0.9998445510864258, 0.9996890425682068, 0.9998445510864258, 0.9996890425682068, 0.9996890425682068, 0.9996890425682068, 0.9996890425682068, 0.9996890425682068, 0.9996840357780457, 1.0, 1.0, 0.9997642636299133, 0.9996890425682068, 0.9993780851364136, 0.9998445510864258, 1.0, 0.9996890425682068, 0.9998445510864258, 1.0, 0.9998445510864258, 0.9996890425682068, 0.9996890425682068, 0.9997642636299133, 0.9996890425682068, 0.9995335936546326, 0.9996890425682068, 0.9992226362228394, 0.9998445510864258, 0.999603807926178], [0.9831504821777344, 0.9776337146759033, 0.9771540760993958, 0.9778379201889038, 0.978904664516449, 0.9806194305419922, 0.9826750755310059, 0.984283447265625, 0.9853358268737793, 0.9869396090507507, 0.9886720776557922, 0.9894761443138123, 0.9899025559425354, 0.9906796813011169, 0.9915457367897034, 0.9930558800697327, 0.9974228739738464, 0.9994221925735474, 0.9994445443153381, 0.9996445775032043, 0.9993777871131897, 0.9994668364524841, 0.9998445510864258, 0.9997999668121338, 0.9998666048049927, 0.9998000264167786, 0.9998445510864258, 0.9998889565467834, 0.9999555349349976, 0.999866783618927, 1.0, 0.9999111890792847, 0.9999111294746399, 0.9999333620071411, 0.9999333620071411, 0.9999778270721436, 0.9999333620071411, 0.9999778270721436, 0.9999333620071411, 0.9999555349349976, 0.9999778270721436, 0.9999333620071411, 0.9999333620071411, 0.9999332427978516, 1.0, 0.9999777674674988, 0.9998888373374939, 0.9999333620071411, 0.9999555349349976, 0.9999333620071411, 0.9999555945396423, 0.9999333620071411, 0.9999333620071411, 0.9999555945396423, 1.0, 1.0, 1.0, 0.9999555349349976, 0.9998666048049927, 0.9998889565467834, 1.0, 0.9999333620071411, 0.9999111294746399, 0.9999778270721436, 1.0, 0.9999555945396423, 0.9999555349349976, 0.9999333620071411, 0.9999555349349976, 0.9999777674674988, 0.9998666048049927, 0.9999778270721436, 0.9999555945396423, 0.9999777674674988, 0.9999555945396423, 0.9999555945396423, 0.9999555945396423, 0.9999555349349976, 0.9999555945396423, 0.9999778270721436, 1.0, 1.0, 0.9999778270721436, 0.9999555945396423, 0.9999111890792847, 0.9999777674674988, 1.0, 0.9999555945396423, 0.9999778270721436, 1.0, 0.9999777674674988, 0.9999555945396423, 0.9999555945396423, 0.9999778270721436, 0.9999555945396423, 0.9999333620071411, 0.9999555945396423, 0.9998888373374939, 0.9999778270721436, 0.9999555945396423], [0.26094529032707214, 0.44623756408691406, 0.5652052164077759, 0.6374378204345703, 0.6886816024780273, 0.7495957612991333, 0.790174126625061, 0.8266168832778931, 0.847139298915863, 0.8689365386962891, 0.8919153809547424, 0.8990361094474792, 0.9077114462852478, 0.913774847984314, 0.9277673959732056, 0.9400497078895569, 0.9776119589805603, 0.9944030046463013, 0.9947139024734497, 0.9968905448913574, 0.9951803684234619, 0.9956467747688293, 0.9986007213592529, 0.9984452724456787, 0.9989116787910461, 0.9984452724456787, 0.9987562298774719, 0.9990671873092651, 0.9995335936546326, 0.9990671873092651, 1.0, 0.9993780851364136, 0.9993780851364136, 0.9993780851364136, 0.9995335936546326, 0.9998445510864258, 0.9995335936546326, 0.9998445510864258, 0.9995335936546326, 0.9996890425682068, 0.9998445510864258, 0.9995335936546326, 0.9995335936546326, 0.9995335936546326, 0.9998445510864258, 0.9998445510864258, 0.9992226362228394, 0.9993780851364136, 0.9996890425682068, 0.9993780851364136, 0.9996890425682068, 0.9995335936546326, 0.9995335936546326, 0.9996890425682068, 0.9998445510864258, 1.0, 0.9996890425682068, 0.9995335936546326, 0.9990671873092651, 0.9990671873092651, 1.0, 0.9995335936546326, 0.9993780851364136, 0.9998445510864258, 1.0, 0.9996890425682068, 0.9996890425682068, 0.9995335936546326, 0.9996890425682068, 0.9996890425682068, 0.9990671873092651, 0.9998445510864258, 0.9996890425682068, 0.9998445510864258, 0.9996890425682068, 0.9996890425682068, 0.9996890425682068, 0.9996890425682068, 0.9996890425682068, 0.9995335936546326, 1.0, 1.0, 0.9996890425682068, 0.9996890425682068, 0.9993780851364136, 0.9998445510864258, 1.0, 0.9996890425682068, 0.9998445510864258, 1.0, 0.9998445510864258, 0.9996890425682068, 0.9996890425682068, 0.9996890425682068, 0.9996890425682068, 0.9995335936546326, 0.9996890425682068, 0.9992226362228394, 0.9998445510864258, 0.9995335936546326], [2.7248411178588867, 1.1196601390838623, 1.062150239944458, 0.984644889831543, 0.8765190839767456, 1.0162805318832397, 1.0149575471878052, 0.867404043674469, 1.0092236995697021, 0.8809495568275452, 0.8250781893730164, 0.8718492388725281, 1.0548123121261597, 0.9756977558135986, 0.9785553812980652, 1.1182290315628052, 0.8916848301887512, 0.913892924785614, 0.9616352915763855, 0.978386640548706, 0.9803040027618408, 0.9686954021453857, 0.9979344010353088, 0.992455780506134, 1.002687931060791, 1.0109755992889404, 1.0166823863983154, 0.9918099045753479, 0.9932664632797241, 1.001304268836975, 1.004773736000061, 1.0120618343353271, 1.0038222074508667, 1.005406141281128, 1.0030330419540405, 1.00557541847229, 1.0062627792358398, 1.009778618812561, 1.0119414329528809, 1.007606029510498, 1.0069658756256104, 1.0110282897949219, 1.0105844736099243, 1.0141572952270508, 1.0091822147369385, 1.0086371898651123, 1.0090755224227905, 1.014224886894226, 1.0080106258392334, 1.008535623550415, 1.0089813470840454, 1.0125772953033447, 1.0109800100326538, 1.0130058526992798, 1.014715313911438, 1.0141149759292603, 1.0143510103225708, 1.0106858015060425, 1.0152145624160767, 1.0163036584854126, 1.0137113332748413, 1.0101184844970703, 1.0144909620285034, 1.012565016746521, 1.0089432001113892, 1.015272617340088, 1.0130743980407715, 1.0118167400360107, 1.0137684345245361, 1.015986442565918, 1.0148462057113647, 1.0128494501113892, 1.0217876434326172, 1.0136804580688477, 1.0132890939712524, 1.0110224485397339, 1.0167855024337769, 1.0122764110565186, 1.0176500082015991, 1.0124952793121338, 1.0159640312194824, 1.012948989868164, 1.014309048652649, 1.0167498588562012, 1.0158642530441284, 1.0146839618682861, 1.0163956880569458, 1.013267993927002, 1.0197522640228271, 1.0151844024658203, 1.0142951011657715, 1.0124441385269165, 1.0164605379104614, 1.0171213150024414, 1.0175151824951172, 1.0161908864974976, 1.0146148204803467, 1.015831470489502, 1.017540454864502, 1.0151772499084473], [0.20970752835273743, 0.600497841835022, 0.6303671598434448, 0.6639701128005981, 0.7093963623046875, 0.7006844878196716, 0.6776602268218994, 0.7417548298835754, 0.705662727355957, 0.7629122734069824, 0.7660236358642578, 0.7734909653663635, 0.7411325573921204, 0.7685127854347229, 0.7747355103492737, 0.7635345458984375, 0.822028636932373, 0.8382078409194946, 0.8307405114173889, 0.8450528979301453, 0.8419415354728699, 0.8444306254386902, 0.8363410234451294, 0.8450528979301453, 0.8450528979301453, 0.8400746583938599, 0.8400746583938599, 0.8456751704216003, 0.8494088649749756, 0.8475419878959656, 0.8481642603874207, 0.8500311374664307, 0.8494088649749756, 0.8494088649749756, 0.8500311374664307, 0.8518979549407959, 0.8537647724151611, 0.8494088649749756, 0.8500311374664307, 0.8506534099578857, 0.8487865328788757, 0.8506534099578857, 0.8494088649749756, 0.8506534099578857, 0.8506534099578857, 0.8506534099578857, 0.8506534099578857, 0.8500311374664307, 0.8506534099578857, 0.8506534099578857, 0.8500311374664307, 0.8494088649749756, 0.8506534099578857, 0.8500311374664307, 0.8512756824493408, 0.8500311374664307, 0.8506534099578857, 0.8512756824493408, 0.8500311374664307, 0.8494088649749756, 0.8500311374664307, 0.8500311374664307, 0.8494088649749756, 0.8500311374664307, 0.8506534099578857, 0.8512756824493408, 0.8500311374664307, 0.8500311374664307, 0.8518979549407959, 0.8506534099578857, 0.8518979549407959, 0.8500311374664307, 0.8506534099578857, 0.8506534099578857, 0.8506534099578857, 0.8500311374664307, 0.8512756824493408, 0.8512756824493408, 0.8512756824493408, 0.8506534099578857, 0.8500311374664307, 0.8506534099578857, 0.8487865328788757, 0.8494088649749756, 0.8494088649749756, 0.8506534099578857, 0.8506534099578857, 0.8512756824493408, 0.8506534099578857, 0.8500311374664307, 0.8506534099578857, 0.8506534099578857, 0.8512756824493408, 0.8512756824493408, 0.8500311374664307, 0.8512756824493408, 0.8506534099578857, 0.8500311374664307, 0.8518979549407959, 0.8500311374664307], [0.20333729684352875, 0.5763241052627563, 0.6111661791801453, 0.6578910946846008, 0.7031762003898621, 0.6961128115653992, 0.6777191758155823, 0.7452494502067566, 0.7101714611053467, 0.7682563662528992, 0.770264208316803, 0.7778170108795166, 0.7402833104133606, 0.7726379036903381, 0.7749119997024536, 0.767795741558075, 0.8227032423019409, 0.8408147096633911, 0.8299371004104614, 0.848069429397583, 0.8446115851402283, 0.8459251523017883, 0.8391834497451782, 0.8476911783218384, 0.8463683128356934, 0.8429016470909119, 0.8446782231330872, 0.8488461971282959, 0.852618932723999, 0.84978848695755, 0.8512056469917297, 0.8520587086677551, 0.852159857749939, 0.8523035049438477, 0.8516952991485596, 0.8527986407279968, 0.8536716103553772, 0.8518204689025879, 0.8523035049438477, 0.8531020283699036, 0.8517405986785889, 0.8531219959259033, 0.8523979783058167, 0.8525031805038452, 0.853062093257904, 0.8519203066825867, 0.8522236943244934, 0.853080689907074, 0.8529011011123657, 0.8533216714859009, 0.8521638512611389, 0.8519841432571411, 0.852722704410553, 0.8515610098838806, 0.8524632453918457, 0.852459192276001, 0.8519442081451416, 0.8517605662345886, 0.8528225421905518, 0.8512256145477295, 0.8525031805038452, 0.8523634076118469, 0.8525630235671997, 0.8523833751678467, 0.8523035049438477, 0.8534014821052551, 0.852722704410553, 0.8523833751678467, 0.8525431156158447, 0.8531019687652588, 0.8530820608139038, 0.8524632453918457, 0.8522835969924927, 0.8533216714859009, 0.8530607223510742, 0.8522038459777832, 0.8524632453918457, 0.852722704410553, 0.8522236943244934, 0.8520227670669556, 0.8522436022758484, 0.8524433374404907, 0.8514837622642517, 0.8530021905899048, 0.8524831533432007, 0.8515849113464355, 0.8533814549446106, 0.8527027368545532, 0.8515650033950806, 0.852722704410553, 0.8515650033950806, 0.8525431156158447, 0.8523434996604919, 0.8518244624137878, 0.8524034023284912, 0.8546989560127258, 0.852742612361908, 0.8530620336532593, 0.8533415198326111, 0.8527187705039978], [0.9288743734359741, 0.9796673059463501, 0.9759292006492615, 0.9701201915740967, 0.9744518995285034, 0.9672031998634338, 0.9663821458816528, 0.9712441563606262, 0.9661421775817871, 0.9725068807601929, 0.9733909964561462, 0.97215336561203, 0.9672026634216309, 0.9700319170951843, 0.9713324904441833, 0.9696781635284424, 0.9760177731513977, 0.9785181283950806, 0.9771921038627625, 0.9797558188438416, 0.9786947965621948, 0.9794022440910339, 0.9780763387680054, 0.9796674847602844, 0.9792255163192749, 0.9783414602279663, 0.978871762752533, 0.9794905185699463, 0.9800208806991577, 0.9794905185699463, 0.9799326658248901, 0.9797558188438416, 0.9797558188438416, 0.9795789122581482, 0.9798440933227539, 0.9797557592391968, 0.9799326062202454, 0.9796674251556396, 0.979578971862793, 0.9798442125320435, 0.9797558188438416, 0.9798442125320435, 0.9798442125320435, 0.9797558188438416, 0.9798442125320435, 0.979578971862793, 0.9796674251556396, 0.9799326062202454, 0.9797558188438416, 0.9799326658248901, 0.9796674251556396, 0.9795790314674377, 0.9798442125320435, 0.9795790314674377, 0.9797558188438416, 0.9797558188438416, 0.9795790314674377, 0.9794905781745911, 0.9797558188438416, 0.9795790314674377, 0.9797558188438416, 0.979578971862793, 0.9796674251556396, 0.9798442125320435, 0.9795790314674377, 0.9798442125320435, 0.9798442125320435, 0.9798442125320435, 0.9796674251556396, 0.9798442125320435, 0.9798442125320435, 0.9797558188438416, 0.9795790314674377, 0.9799326062202454, 0.9799326062202454, 0.9796674251556396, 0.9797558188438416, 0.9798442125320435, 0.9796673655509949, 0.979578971862793, 0.9796673655509949, 0.9797558188438416, 0.9794905781745911, 0.9799326062202454, 0.9797558188438416, 0.9795790314674377, 0.9799326062202454, 0.9798442125320435, 0.9795790314674377, 0.9798442125320435, 0.979578971862793, 0.9796674251556396, 0.9798442125320435, 0.9796673655509949, 0.9797558188438416, 0.980021059513092, 0.9798440933227539, 0.9798442125320435, 0.9799326062202454, 0.9798442125320435], [0.17176450788974762, 0.46729138493537903, 0.5202440023422241, 0.5980374813079834, 0.6421499252319336, 0.6588578224182129, 0.6359617710113525, 0.7157884836196899, 0.6829915046691895, 0.7450494766235352, 0.7450494766235352, 0.7623762488365173, 0.7240098714828491, 0.7623762488365173, 0.7603429555892944, 0.7561880946159363, 0.8166548609733582, 0.8347772359848022, 0.823019802570343, 0.8409653306007385, 0.8403465151786804, 0.8391088843345642, 0.8341584205627441, 0.8409653306007385, 0.8409653306007385, 0.8391088843345642, 0.8397276997566223, 0.843440592288971, 0.8471534848213196, 0.8452970385551453, 0.8452970385551453, 0.8477723002433777, 0.8477723002433777, 0.8490098714828491, 0.8465346693992615, 0.8490098714828491, 0.8496286869049072, 0.8477723002433777, 0.8490098714828491, 0.8490098714828491, 0.8471534848213196, 0.8490098714828491, 0.8477723002433777, 0.8483911156654358, 0.8490098714828491, 0.8483911156654358, 0.8483911156654358, 0.8483911156654358, 0.8490098714828491, 0.8490098714828491, 0.8483911156654358, 0.8483911156654358, 0.8483911156654358, 0.8477723002433777, 0.8483911156654358, 0.8483911156654358, 0.8483911156654358, 0.8483911156654358, 0.8490098714828491, 0.8471534848213196, 0.8483911156654358, 0.8490098714828491, 0.8490098714828491, 0.8477723002433777, 0.8490098714828491, 0.8496286869049072, 0.8483911156654358, 0.8477723002433777, 0.8490098714828491, 0.8490098714828491, 0.8490098714828491, 0.8483911156654358, 0.8490098714828491, 0.8490098714828491, 0.8483911156654358, 0.8483911156654358, 0.8483911156654358, 0.8483911156654358, 0.8483911156654358, 0.8483911156654358, 0.8483911156654358, 0.8483911156654358, 0.8477723002433777, 0.8483911156654358, 0.8483911156654358, 0.8477723002433777, 0.8490098714828491, 0.8483911156654358, 0.8477723002433777, 0.8483911156654358, 0.8477723002433777, 0.8490098714828491, 0.8477723002433777, 0.8477723002433777, 0.8483911156654358, 0.8508663177490234, 0.8483911156654358, 0.8490098714828491, 0.8490098714828491, 0.8483911156654358], [0.001, 0.001, 0.001, 0.001, 0.001, 0.001, 0.001, 0.001, 0.001, 0.001, 0.001, 0.001, 0.001, 0.001, 0.001, 0.001, 0.0003162278, 0.0003162278, 0.0003162278, 0.0003162278, 0.0003162278, 0.000100000005, 0.000100000005, 0.000100000005, 0.000100000005, 0.000100000005, 3.1622778e-05, 3.1622778e-05, 3.1622778e-05, 3.1622778e-05, 3.1622778e-05, 1.0000001e-05, 1.0000001e-05, 1.0000001e-05, 1.0000001e-05, 1.0000001e-05, 3.1622778e-06, 3.1622778e-06, 3.1622778e-06, 3.1622778e-06, 3.1622778e-06, 1.0000001e-06, 1.0000001e-06, 1.0000001e-06, 1.0000001e-06, 1.0000001e-06, 5e-07, 5e-07, 5e-07, 5e-07, 5e-07, 5e-07, 5e-07, 5e-07, 5e-07, 5e-07, 5e-07, 5e-07, 5e-07, 5e-07, 5e-07, 5e-07, 5e-07, 5e-07, 5e-07, 5e-07, 5e-07, 5e-07, 5e-07, 5e-07, 5e-07, 5e-07, 5e-07, 5e-07, 5e-07, 5e-07, 5e-07, 5e-07, 5e-07, 5e-07, 5e-07, 5e-07, 5e-07, 5e-07, 5e-07, 5e-07, 5e-07, 5e-07, 5e-07, 5e-07, 5e-07, 5e-07, 5e-07, 5e-07, 5e-07, 5e-07, 5e-07, 5e-07, 5e-07, 5e-07]])\n",
            "[1.015174388885498, 0.8500311374664307, 0.8541746139526367, 0.9800420999526978, 0.8498774766921997]\n",
            "Test loss: 1.015174388885498\n",
            "Test accuracy: 0.8500311374664307\n",
            "Test f1: 0.8541746139526367\n",
            "Test sensitivity: 0.9800420999526978\n",
            "Test specificity: 0.8498774766921997\n",
            "Max Test accuracy 0.8537647724151611\n"
          ]
        }
      ],
      "source": [
        "\n",
        "print('------------Training time is seconds:%s',time.time()-start)\n",
        "scores = model.evaluate(x_test, y_test, verbose=1)\n",
        "\n",
        "#history keys and values\n",
        "print(history.history.keys())\n",
        "print(history.history.values())\n",
        "\n",
        "#Metrics for testing\n",
        "print(scores)\n",
        "print('Test loss:', scores[0])\n",
        "print('Test accuracy:', scores[1])\n",
        "print('Test f1:',scores[2])\n",
        "print('Test sensitivity:',scores[3])\n",
        "print('Test specificity:',scores[4])\n",
        "print(\"Max Test accuracy\", max(history.history['val_accuracy']))"
      ]
    },
    {
      "cell_type": "code",
      "execution_count": null,
      "metadata": {
        "colab": {
          "base_uri": "https://localhost:8080/",
          "height": 472
        },
        "id": "p_nNaJaDv_vq",
        "outputId": "d24819ba-2283-4459-cb79-5f3814e4b844"
      },
      "outputs": [
        {
          "output_type": "display_data",
          "data": {
            "text/plain": [
              "<Figure size 640x480 with 1 Axes>"
            ],
            "image/png": "[encoded data removed]"
          },
          "metadata": {}
        }
      ],
      "source": [
        "import matplotlib.pyplot as plt\n",
        "# summarize history for accuracy\n",
        "\n",
        "plt.plot(history.history['accuracy'])\n",
        "plt.plot(history.history['val_accuracy'])\n",
        "plt.title('model Accuracy')\n",
        "plt.ylabel('accuracy')\n",
        "plt.xlabel('epoch')\n",
        "plt.legend(['train', 'test'], loc='upper left')\n",
        "plt.savefig(METRICS_PATH+MODEL_NAME+\"_acc.png\")\n",
        "plt.show()\n"
      ]
    },
    {
      "cell_type": "code",
      "execution_count": null,
      "metadata": {
        "colab": {
          "base_uri": "https://localhost:8080/",
          "height": 472
        },
        "id": "LVWJTvIav_s4",
        "outputId": "50a65101-fd0c-4dff-8697-0c9a6cc76933"
      },
      "outputs": [
        {
          "output_type": "display_data",
          "data": {
            "text/plain": [
              "<Figure size 640x480 with 1 Axes>"
            ],
            "image/png": "[encoded data removed]"
          },
          "metadata": {}
        }
      ],
      "source": [
        "# summarize history for loss\n",
        "\n",
        "plt.plot(history.history['loss'])\n",
        "plt.plot(history.history['val_loss'])\n",
        "plt.title('model loss')\n",
        "plt.ylabel('loss')\n",
        "plt.xlabel('epoch')\n",
        "plt.legend(['train', 'test'], loc='upper left')\n",
        "plt.savefig(METRICS_PATH+MODEL_NAME+\"_loss.png\")\n",
        "plt.show()\n"
      ]
    },
    {
      "cell_type": "code",
      "execution_count": null,
      "metadata": {
        "id": "mla9gwL-eEmy"
      },
      "outputs": [],
      "source": []
    }
  ],
  "metadata": {
    "accelerator": "GPU",
    "colab": {
      "provenance": [],
      "gpuType": "T4",
      "include_colab_link": true
    },
    "kernelspec": {
      "display_name": "Python 3",
      "name": "python3"
    },
    "language_info": {
      "name": "python"
    }
  },
  "nbformat": 4,
  "nbformat_minor": 0
}